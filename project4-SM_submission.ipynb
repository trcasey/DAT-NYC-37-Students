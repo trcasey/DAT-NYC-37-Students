{
 "cells": [
  {
   "cell_type": "markdown",
   "metadata": {},
   "source": [
    "# Project 4\n",
    "\n",
    "In this project, you will summarize and present your analysis from Projects 1-3."
   ]
  },
  {
   "cell_type": "markdown",
   "metadata": {},
   "source": [
    "### Intro: Write a problem Statement/ Specific Aim for this project"
   ]
  },
  {
   "cell_type": "markdown",
   "metadata": {},
   "source": [
    "Answer: The goal of this project is to predict the likelihood of admittance to a PHD program. Students frequently guess at their chances, and get nervous about the application process. The point of this project is to shine some light on the applciation process using data, and to assess admission likelihood using various predictors, including GPA, GRE score, and prestige of an applicant's undergrad program. "
   ]
  },
  {
   "cell_type": "markdown",
   "metadata": {},
   "source": [
    "### Dataset:  Write up a description of your data and any cleaning that was completed"
   ]
  },
  {
   "cell_type": "markdown",
   "metadata": {},
   "source": [
    "Answer: The dataset is fairly clean/prepared already- there is a dataset containing anonymyzed data on 397 applicants to the UCLA phd program, and whether they were admitted (1) or not (0). Among the dataset, there are also 3 other columns- gre, gpa, and prestige; the gre column is the continuous gre score, ranging from 200 to 800; the gpa column is also continuous, ranging from 0 to 4, and the prestige column is ordinal, with 1,2,3,4 as options (the schools are grouped into tiers, with prestige 1 being the best and prestige 4 being the worst). The only data preparation necessary is to turn the prestige column into 4 separate dummy columns for prestige 1,2,3,4, since as an ordinal categorical (non-continous) variable it can't be regressed "
   ]
  },
  {
   "cell_type": "markdown",
   "metadata": {
    "collapsed": true
   },
   "source": [
    "### Demo: Provide a table that explains the data by admission status"
   ]
  },
  {
   "cell_type": "markdown",
   "metadata": {},
   "source": [
    "Mean (STD) or counts by admission status for each variable \n",
    "\n",
    "| Not Admitted | Admitted\n",
    "---| ---|---\n",
    "GPA | 3.347159 (0.376355)  | 3.489206 (0.371655)\n",
    "GRE |573.579336 (116.052798) | 618.571429 (109.257233)\n",
    "Prestige 1 | 28 | 33 \n",
    "Prestige 2 | 95 | 53\n",
    "Prestige 3 |93 | 28\n",
    "Prestige 4 |55 | 12"
   ]
  },
  {
   "cell_type": "markdown",
   "metadata": {},
   "source": [
    "### Methods: Write up the methods used in your analysis"
   ]
  },
  {
   "cell_type": "markdown",
   "metadata": {},
   "source": [
    "Answer: Since the outcome is a binary variable, we use a logistic regression to predict the predictive power of each coefficient in determining the likelihood of admittance; we can also calculate the odds ratio of admittance given particular conditions"
   ]
  },
  {
   "cell_type": "markdown",
   "metadata": {},
   "source": [
    "### Results: Write up your results"
   ]
  },
  {
   "cell_type": "markdown",
   "metadata": {},
   "source": [
    "Answer: With the logistic regression, all variables are significant at p<.05; GRE has a coefficient of  0.0022, meaning that an increase in GRE score by a point increases the likelihood of admission by 0.0022; GPA has a coefficient of  0.7793. As expected, a prestige 1 school contributes to the likelihood of admission more than a prestige 2 or 3 school (coefficients of 1.5534 vs. 0.8733 vs. 0.2147, respectively)"
   ]
  },
  {
   "cell_type": "markdown",
   "metadata": {},
   "source": [
    "### Discussion: Write up your discussion and future steps"
   ]
  },
  {
   "cell_type": "markdown",
   "metadata": {},
   "source": [
    "Answer: The results were largely as expected- gpa, gre scores, and prestige of undergraduate program were all positively correlated (and had a statistically significant effect on) with admission likelihood. In future studies, the dataset would ideally be expanded to cover other independent variables, including potentially undergraduate course of study, student demographic info, previous research and professional experience, and other factors that could conceivably have an effect on admission likelihood. At the same time, expanding the dataset to include more samples, either from different years within the same program, from different programs at the same school, or from similar programs at other schools, could help evaluate the applicability of the findings more broadly. Finally, instead of just measuring admittance as the dependent variable, the study could look at other dependent variables, including long term career success or likelihood of acceptance (if admitted) "
   ]
  }
 ],
 "metadata": {
  "kernelspec": {
   "display_name": "Python 2",
   "language": "python",
   "name": "python2"
  },
  "language_info": {
   "codemirror_mode": {
    "name": "ipython",
    "version": 2
   },
   "file_extension": ".py",
   "mimetype": "text/x-python",
   "name": "python",
   "nbconvert_exporter": "python",
   "pygments_lexer": "ipython2",
   "version": "2.7.11"
  }
 },
 "nbformat": 4,
 "nbformat_minor": 0
}
