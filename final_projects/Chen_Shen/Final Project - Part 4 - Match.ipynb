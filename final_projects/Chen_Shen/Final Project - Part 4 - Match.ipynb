{
 "cells": [
  {
   "cell_type": "code",
   "execution_count": 1,
   "metadata": {
    "collapsed": true
   },
   "outputs": [],
   "source": [
    "# Load Python Library\n",
    "\n",
    "import pandas as pd\n",
    "import numpy as np\n",
    "import matplotlib.pyplot as plt\n",
    "import statsmodels.api as sm\n",
    "import pylab as pl\n",
    "import numpy as np\n",
    "import seaborn as sns\n",
    "%matplotlib inline"
   ]
  },
  {
   "cell_type": "code",
   "execution_count": 2,
   "metadata": {
    "collapsed": false
   },
   "outputs": [],
   "source": [
    "# Read in data from source \n",
    "df = pd.read_csv('Speed Dating Data clean.csv')"
   ]
  },
  {
   "cell_type": "code",
   "execution_count": 3,
   "metadata": {
    "collapsed": false,
    "scrolled": true
   },
   "outputs": [
    {
     "data": {
      "text/html": [
       "<div>\n",
       "<table border=\"1\" class=\"dataframe\">\n",
       "  <thead>\n",
       "    <tr style=\"text-align: right;\">\n",
       "      <th></th>\n",
       "      <th>gender</th>\n",
       "      <th>match</th>\n",
       "      <th>samerace</th>\n",
       "      <th>dec_o</th>\n",
       "      <th>dec</th>\n",
       "      <th>estimated_int_corr</th>\n",
       "      <th>estimated_age_o</th>\n",
       "      <th>estimated_race_o</th>\n",
       "      <th>estimated_attr_o</th>\n",
       "      <th>estimated_sinc_o</th>\n",
       "      <th>...</th>\n",
       "      <th>estimated_like</th>\n",
       "      <th>estimated_prob</th>\n",
       "      <th>diff_age</th>\n",
       "      <th>diff_attr</th>\n",
       "      <th>diff_sinc</th>\n",
       "      <th>diff_intel</th>\n",
       "      <th>diff_fun</th>\n",
       "      <th>diff_amb</th>\n",
       "      <th>diff_shar</th>\n",
       "      <th>diff_like</th>\n",
       "    </tr>\n",
       "  </thead>\n",
       "  <tbody>\n",
       "    <tr>\n",
       "      <th>0</th>\n",
       "      <td>0</td>\n",
       "      <td>0</td>\n",
       "      <td>0</td>\n",
       "      <td>0</td>\n",
       "      <td>1</td>\n",
       "      <td>0.14</td>\n",
       "      <td>27.0</td>\n",
       "      <td>2.0</td>\n",
       "      <td>6.0</td>\n",
       "      <td>8.0</td>\n",
       "      <td>...</td>\n",
       "      <td>7.0</td>\n",
       "      <td>6.000000</td>\n",
       "      <td>6.0</td>\n",
       "      <td>0.0</td>\n",
       "      <td>1.0</td>\n",
       "      <td>1.0</td>\n",
       "      <td>1.0</td>\n",
       "      <td>2.0</td>\n",
       "      <td>1.0</td>\n",
       "      <td>0.0</td>\n",
       "    </tr>\n",
       "    <tr>\n",
       "      <th>1</th>\n",
       "      <td>0</td>\n",
       "      <td>0</td>\n",
       "      <td>0</td>\n",
       "      <td>0</td>\n",
       "      <td>1</td>\n",
       "      <td>0.54</td>\n",
       "      <td>22.0</td>\n",
       "      <td>2.0</td>\n",
       "      <td>7.0</td>\n",
       "      <td>8.0</td>\n",
       "      <td>...</td>\n",
       "      <td>7.0</td>\n",
       "      <td>5.000000</td>\n",
       "      <td>1.0</td>\n",
       "      <td>0.0</td>\n",
       "      <td>0.0</td>\n",
       "      <td>3.0</td>\n",
       "      <td>1.0</td>\n",
       "      <td>2.0</td>\n",
       "      <td>1.0</td>\n",
       "      <td>1.0</td>\n",
       "    </tr>\n",
       "    <tr>\n",
       "      <th>2</th>\n",
       "      <td>0</td>\n",
       "      <td>1</td>\n",
       "      <td>1</td>\n",
       "      <td>1</td>\n",
       "      <td>1</td>\n",
       "      <td>0.16</td>\n",
       "      <td>22.0</td>\n",
       "      <td>4.0</td>\n",
       "      <td>10.0</td>\n",
       "      <td>10.0</td>\n",
       "      <td>...</td>\n",
       "      <td>7.0</td>\n",
       "      <td>5.207523</td>\n",
       "      <td>1.0</td>\n",
       "      <td>5.0</td>\n",
       "      <td>2.0</td>\n",
       "      <td>1.0</td>\n",
       "      <td>2.0</td>\n",
       "      <td>5.0</td>\n",
       "      <td>3.0</td>\n",
       "      <td>3.0</td>\n",
       "    </tr>\n",
       "    <tr>\n",
       "      <th>3</th>\n",
       "      <td>0</td>\n",
       "      <td>1</td>\n",
       "      <td>0</td>\n",
       "      <td>1</td>\n",
       "      <td>1</td>\n",
       "      <td>0.61</td>\n",
       "      <td>23.0</td>\n",
       "      <td>2.0</td>\n",
       "      <td>7.0</td>\n",
       "      <td>8.0</td>\n",
       "      <td>...</td>\n",
       "      <td>7.0</td>\n",
       "      <td>6.000000</td>\n",
       "      <td>2.0</td>\n",
       "      <td>0.0</td>\n",
       "      <td>2.0</td>\n",
       "      <td>1.0</td>\n",
       "      <td>1.0</td>\n",
       "      <td>3.0</td>\n",
       "      <td>0.0</td>\n",
       "      <td>0.0</td>\n",
       "    </tr>\n",
       "    <tr>\n",
       "      <th>4</th>\n",
       "      <td>0</td>\n",
       "      <td>1</td>\n",
       "      <td>0</td>\n",
       "      <td>1</td>\n",
       "      <td>1</td>\n",
       "      <td>0.21</td>\n",
       "      <td>24.0</td>\n",
       "      <td>3.0</td>\n",
       "      <td>8.0</td>\n",
       "      <td>7.0</td>\n",
       "      <td>...</td>\n",
       "      <td>6.0</td>\n",
       "      <td>6.000000</td>\n",
       "      <td>3.0</td>\n",
       "      <td>3.0</td>\n",
       "      <td>1.0</td>\n",
       "      <td>2.0</td>\n",
       "      <td>1.0</td>\n",
       "      <td>3.0</td>\n",
       "      <td>1.0</td>\n",
       "      <td>2.0</td>\n",
       "    </tr>\n",
       "  </tbody>\n",
       "</table>\n",
       "<p>5 rows × 34 columns</p>\n",
       "</div>"
      ],
      "text/plain": [
       "   gender  match  samerace  dec_o  dec  estimated_int_corr  estimated_age_o  \\\n",
       "0       0      0         0      0    1                0.14             27.0   \n",
       "1       0      0         0      0    1                0.54             22.0   \n",
       "2       0      1         1      1    1                0.16             22.0   \n",
       "3       0      1         0      1    1                0.61             23.0   \n",
       "4       0      1         0      1    1                0.21             24.0   \n",
       "\n",
       "   estimated_race_o  estimated_attr_o  estimated_sinc_o    ...      \\\n",
       "0               2.0               6.0               8.0    ...       \n",
       "1               2.0               7.0               8.0    ...       \n",
       "2               4.0              10.0              10.0    ...       \n",
       "3               2.0               7.0               8.0    ...       \n",
       "4               3.0               8.0               7.0    ...       \n",
       "\n",
       "   estimated_like  estimated_prob  diff_age  diff_attr  diff_sinc  diff_intel  \\\n",
       "0             7.0        6.000000       6.0        0.0        1.0         1.0   \n",
       "1             7.0        5.000000       1.0        0.0        0.0         3.0   \n",
       "2             7.0        5.207523       1.0        5.0        2.0         1.0   \n",
       "3             7.0        6.000000       2.0        0.0        2.0         1.0   \n",
       "4             6.0        6.000000       3.0        3.0        1.0         2.0   \n",
       "\n",
       "   diff_fun  diff_amb  diff_shar  diff_like  \n",
       "0       1.0       2.0        1.0        0.0  \n",
       "1       1.0       2.0        1.0        1.0  \n",
       "2       2.0       5.0        3.0        3.0  \n",
       "3       1.0       3.0        0.0        0.0  \n",
       "4       1.0       3.0        1.0        2.0  \n",
       "\n",
       "[5 rows x 34 columns]"
      ]
     },
     "execution_count": 3,
     "metadata": {},
     "output_type": "execute_result"
    }
   ],
   "source": [
    "# Sanity check\n",
    "df.head()"
   ]
  },
  {
   "cell_type": "markdown",
   "metadata": {},
   "source": [
    "### Step 3: Define train/test split"
   ]
  },
  {
   "cell_type": "code",
   "execution_count": 6,
   "metadata": {
    "collapsed": true
   },
   "outputs": [],
   "source": [
    "X = df.drop(['match', 'dec_o', 'dec','estimated_field_cd'], axis=1)\n",
    "y = df['match']  "
   ]
  },
  {
   "cell_type": "code",
   "execution_count": 7,
   "metadata": {
    "collapsed": false
   },
   "outputs": [],
   "source": [
    "from sklearn import tree, cross_validation, linear_model, metrics\n",
    "\n",
    "X_train, X_test, y_train, y_test = cross_validation.train_test_split(X, y, test_size=0.3, random_state=1)"
   ]
  },
  {
   "cell_type": "markdown",
   "metadata": {},
   "source": [
    "### Step 4: Choose model and fit the model"
   ]
  },
  {
   "cell_type": "code",
   "execution_count": 9,
   "metadata": {
    "collapsed": true
   },
   "outputs": [],
   "source": [
    "def format_model_results(sklearn_model, X_train, X_test, y_train, y_test):\n",
    "    model_class_name = sklearn_model.__class__.__name__  \n",
    "    \n",
    "    y_test_pred   = sklearn_model.predict(X_test)\n",
    "    y_train_pred  = sklearn_model.predict(X_train)\n",
    "\n",
    "    precision_score = metrics.precision_score(y_test_pred, y_test)\n",
    "    recall_score    = metrics.recall_score(y_test_pred, y_test)\n",
    "    f1_score        = metrics.f1_score(y_test_pred, y_test)\n",
    "    f1_score_train  = metrics.f1_score(y_train_pred, y_train)\n",
    "    auc_score       = metrics.roc_auc_score(y_test_pred, y_test)\n",
    "    \n",
    "    return pd.DataFrame({\n",
    "            \"Precision\": precision_score, \n",
    "            \"Recall\": recall_score, \n",
    "            \"F1 score\": f1_score, \n",
    "            \"F1 score (train)\": f1_score_train, \n",
    "            \"AUC\": auc_score\n",
    "        }, index=[model_class_name])"
   ]
  },
  {
   "cell_type": "markdown",
   "metadata": {},
   "source": [
    "#### Model 1: Logistic Regression"
   ]
  },
  {
   "cell_type": "code",
   "execution_count": 10,
   "metadata": {
    "collapsed": false
   },
   "outputs": [
    {
     "data": {
      "text/plain": [
       "LogisticRegression(C=1.0, class_weight=None, dual=False, fit_intercept=True,\n",
       "          intercept_scaling=1, max_iter=100, multi_class='ovr', n_jobs=1,\n",
       "          penalty='l2', random_state=None, solver='liblinear', tol=0.0001,\n",
       "          verbose=0, warm_start=False)"
      ]
     },
     "execution_count": 10,
     "metadata": {},
     "output_type": "execute_result"
    }
   ],
   "source": [
    "logreg_model = linear_model.LogisticRegression()\n",
    "logreg_model.fit(X_train, y_train)"
   ]
  },
  {
   "cell_type": "code",
   "execution_count": 11,
   "metadata": {
    "collapsed": false
   },
   "outputs": [
    {
     "data": {
      "text/html": [
       "<div>\n",
       "<table border=\"1\" class=\"dataframe\">\n",
       "  <thead>\n",
       "    <tr style=\"text-align: right;\">\n",
       "      <th></th>\n",
       "      <th>AUC</th>\n",
       "      <th>F1 score</th>\n",
       "      <th>F1 score (train)</th>\n",
       "      <th>Precision</th>\n",
       "      <th>Recall</th>\n",
       "    </tr>\n",
       "  </thead>\n",
       "  <tbody>\n",
       "    <tr>\n",
       "      <th>LogisticRegression</th>\n",
       "      <td>0.755803</td>\n",
       "      <td>0.409318</td>\n",
       "      <td>0.444597</td>\n",
       "      <td>0.302211</td>\n",
       "      <td>0.634021</td>\n",
       "    </tr>\n",
       "  </tbody>\n",
       "</table>\n",
       "</div>"
      ],
      "text/plain": [
       "                         AUC  F1 score  F1 score (train)  Precision    Recall\n",
       "LogisticRegression  0.755803  0.409318          0.444597   0.302211  0.634021"
      ]
     },
     "execution_count": 11,
     "metadata": {},
     "output_type": "execute_result"
    }
   ],
   "source": [
    "format_model_results(logreg_model, X_train, X_test, y_train, y_test)"
   ]
  },
  {
   "cell_type": "markdown",
   "metadata": {},
   "source": [
    "#### Model 2: KNN"
   ]
  },
  {
   "cell_type": "code",
   "execution_count": 12,
   "metadata": {
    "collapsed": false
   },
   "outputs": [
    {
     "data": {
      "text/plain": [
       "KNeighborsClassifier(algorithm='auto', leaf_size=30, metric='minkowski',\n",
       "           metric_params=None, n_jobs=1, n_neighbors=3, p=2,\n",
       "           weights='uniform')"
      ]
     },
     "execution_count": 12,
     "metadata": {},
     "output_type": "execute_result"
    }
   ],
   "source": [
    "from sklearn import neighbors\n",
    "\n",
    "knn_model = neighbors.KNeighborsClassifier(n_neighbors=3)\n",
    "\n",
    "knn_model.fit(X_train, y_train)"
   ]
  },
  {
   "cell_type": "code",
   "execution_count": 13,
   "metadata": {
    "collapsed": false
   },
   "outputs": [
    {
     "data": {
      "text/html": [
       "<div>\n",
       "<table border=\"1\" class=\"dataframe\">\n",
       "  <thead>\n",
       "    <tr style=\"text-align: right;\">\n",
       "      <th></th>\n",
       "      <th>AUC</th>\n",
       "      <th>F1 score</th>\n",
       "      <th>F1 score (train)</th>\n",
       "      <th>Precision</th>\n",
       "      <th>Recall</th>\n",
       "    </tr>\n",
       "  </thead>\n",
       "  <tbody>\n",
       "    <tr>\n",
       "      <th>KNeighborsClassifier</th>\n",
       "      <td>0.692284</td>\n",
       "      <td>0.400593</td>\n",
       "      <td>0.667074</td>\n",
       "      <td>0.331695</td>\n",
       "      <td>0.505618</td>\n",
       "    </tr>\n",
       "  </tbody>\n",
       "</table>\n",
       "</div>"
      ],
      "text/plain": [
       "                           AUC  F1 score  F1 score (train)  Precision  \\\n",
       "KNeighborsClassifier  0.692284  0.400593          0.667074   0.331695   \n",
       "\n",
       "                        Recall  \n",
       "KNeighborsClassifier  0.505618  "
      ]
     },
     "execution_count": 13,
     "metadata": {},
     "output_type": "execute_result"
    }
   ],
   "source": [
    "format_model_results(knn_model, X_train, X_test, y_train, y_test)"
   ]
  },
  {
   "cell_type": "markdown",
   "metadata": {},
   "source": [
    "#### Model 3: Decision Trees"
   ]
  },
  {
   "cell_type": "code",
   "execution_count": 14,
   "metadata": {
    "collapsed": false
   },
   "outputs": [
    {
     "data": {
      "text/plain": [
       "DecisionTreeClassifier(class_weight=None, criterion='gini', max_depth=None,\n",
       "            max_features=None, max_leaf_nodes=None, min_samples_leaf=1,\n",
       "            min_samples_split=2, min_weight_fraction_leaf=0.0,\n",
       "            presort=False, random_state=None, splitter='best')"
      ]
     },
     "execution_count": 14,
     "metadata": {},
     "output_type": "execute_result"
    }
   ],
   "source": [
    "dectree_model = tree.DecisionTreeClassifier()\n",
    "\n",
    "dectree_model.fit(X_train, y_train)"
   ]
  },
  {
   "cell_type": "code",
   "execution_count": 15,
   "metadata": {
    "collapsed": false,
    "scrolled": true
   },
   "outputs": [
    {
     "data": {
      "text/html": [
       "<div>\n",
       "<table border=\"1\" class=\"dataframe\">\n",
       "  <thead>\n",
       "    <tr style=\"text-align: right;\">\n",
       "      <th></th>\n",
       "      <th>AUC</th>\n",
       "      <th>F1 score</th>\n",
       "      <th>F1 score (train)</th>\n",
       "      <th>Precision</th>\n",
       "      <th>Recall</th>\n",
       "    </tr>\n",
       "  </thead>\n",
       "  <tbody>\n",
       "    <tr>\n",
       "      <th>DecisionTreeClassifier</th>\n",
       "      <td>0.647017</td>\n",
       "      <td>0.415366</td>\n",
       "      <td>1.0</td>\n",
       "      <td>0.425061</td>\n",
       "      <td>0.406103</td>\n",
       "    </tr>\n",
       "  </tbody>\n",
       "</table>\n",
       "</div>"
      ],
      "text/plain": [
       "                             AUC  F1 score  F1 score (train)  Precision  \\\n",
       "DecisionTreeClassifier  0.647017  0.415366               1.0   0.425061   \n",
       "\n",
       "                          Recall  \n",
       "DecisionTreeClassifier  0.406103  "
      ]
     },
     "execution_count": 15,
     "metadata": {},
     "output_type": "execute_result"
    }
   ],
   "source": [
    "format_model_results(dectree_model, X_train, X_test, y_train, y_test)"
   ]
  },
  {
   "cell_type": "markdown",
   "metadata": {},
   "source": [
    "#### Compare the models:"
   ]
  },
  {
   "cell_type": "code",
   "execution_count": 16,
   "metadata": {
    "collapsed": false
   },
   "outputs": [
    {
     "data": {
      "text/html": [
       "<div>\n",
       "<table border=\"1\" class=\"dataframe\">\n",
       "  <thead>\n",
       "    <tr style=\"text-align: right;\">\n",
       "      <th></th>\n",
       "      <th>AUC</th>\n",
       "      <th>F1 score</th>\n",
       "      <th>F1 score (train)</th>\n",
       "      <th>Precision</th>\n",
       "      <th>Recall</th>\n",
       "    </tr>\n",
       "  </thead>\n",
       "  <tbody>\n",
       "    <tr>\n",
       "      <th>LogisticRegression</th>\n",
       "      <td>0.755803</td>\n",
       "      <td>0.409318</td>\n",
       "      <td>0.444597</td>\n",
       "      <td>0.302211</td>\n",
       "      <td>0.634021</td>\n",
       "    </tr>\n",
       "    <tr>\n",
       "      <th>KNeighborsClassifier</th>\n",
       "      <td>0.692284</td>\n",
       "      <td>0.400593</td>\n",
       "      <td>0.667074</td>\n",
       "      <td>0.331695</td>\n",
       "      <td>0.505618</td>\n",
       "    </tr>\n",
       "    <tr>\n",
       "      <th>DecisionTreeClassifier</th>\n",
       "      <td>0.647017</td>\n",
       "      <td>0.415366</td>\n",
       "      <td>1.000000</td>\n",
       "      <td>0.425061</td>\n",
       "      <td>0.406103</td>\n",
       "    </tr>\n",
       "  </tbody>\n",
       "</table>\n",
       "</div>"
      ],
      "text/plain": [
       "                             AUC  F1 score  F1 score (train)  Precision  \\\n",
       "LogisticRegression      0.755803  0.409318          0.444597   0.302211   \n",
       "KNeighborsClassifier    0.692284  0.400593          0.667074   0.331695   \n",
       "DecisionTreeClassifier  0.647017  0.415366          1.000000   0.425061   \n",
       "\n",
       "                          Recall  \n",
       "LogisticRegression      0.634021  \n",
       "KNeighborsClassifier    0.505618  \n",
       "DecisionTreeClassifier  0.406103  "
      ]
     },
     "execution_count": 16,
     "metadata": {},
     "output_type": "execute_result"
    }
   ],
   "source": [
    "scores_df = pd.concat([\n",
    "    format_model_results(logreg_model, X_train, X_test, y_train, y_test),\n",
    "    format_model_results(knn_model, X_train, X_test, y_train, y_test),\n",
    "    format_model_results(dectree_model, X_train, X_test, y_train, y_test),\n",
    "])\n",
    "\n",
    "scores_df"
   ]
  },
  {
   "cell_type": "markdown",
   "metadata": {},
   "source": [
    "### Step 5: Use logistic regression"
   ]
  },
  {
   "cell_type": "code",
   "execution_count": 27,
   "metadata": {
    "collapsed": true
   },
   "outputs": [],
   "source": [
    "from sklearn import linear_model, cross_validation, feature_selection"
   ]
  },
  {
   "cell_type": "code",
   "execution_count": 18,
   "metadata": {
    "collapsed": false
   },
   "outputs": [
    {
     "name": "stdout",
     "output_type": "stream",
     "text": [
      "intercept    = [-6.21242538]\n",
      "coefficients = [[-0.07878418 -0.18507721  0.19344039 -0.0381096   0.02388622  0.14495816\n",
      "  -0.04786939  0.01267481  0.16457815 -0.12629903  0.06294675  0.34772169\n",
      "  -0.04172025 -0.00763784  0.24129345 -0.08736551 -0.00425259  0.15338811\n",
      "  -0.18179223  0.10196892  0.1951396   0.17590461 -0.01103805 -0.11089588\n",
      "   0.05102287 -0.05274061 -0.011684    0.01384177 -0.00295594 -0.19819655]]\n",
      "training misclassification = 0.862380627558\n",
      "testing  misclassification = 0.858790771679\n"
     ]
    }
   ],
   "source": [
    "model = linear_model.LogisticRegression()\n",
    "model.fit(X_train, y_train)\n",
    "\n",
    "print 'intercept    =', model.intercept_\n",
    "print 'coefficients =', model.coef_\n",
    "print 'training misclassification =', model.score(X_train, y_train)\n",
    "print 'testing  misclassification =', model.score(X_test, y_test)"
   ]
  },
  {
   "cell_type": "code",
   "execution_count": 19,
   "metadata": {
    "collapsed": false
   },
   "outputs": [
    {
     "data": {
      "text/plain": [
       "[('gender', -0.075760628567643762),\n",
       " ('samerace', -0.16895988725078626),\n",
       " ('estimated_int_corr', 0.21341705774730046),\n",
       " ('estimated_age_o', -0.037392562660181317),\n",
       " ('estimated_race_o', 0.024173777120886752),\n",
       " ('estimated_attr_o', 0.15599120010199274),\n",
       " ('estimated_sinc_o', -0.046741720702443978),\n",
       " ('estimated_intel_o', 0.012755478870343673),\n",
       " ('estimated_fun_o', 0.17889569311650644),\n",
       " ('estimated_amb_o', -0.11864874421492511),\n",
       " ('estimated_shar_o', 0.064970130793692293),\n",
       " ('estimated_like_o', 0.4158381562251785),\n",
       " ('estimated_age', -0.040861939103366329),\n",
       " ('estimated_race', -0.0076087495574795883),\n",
       " ('estimated_attr', 0.27289451272354914),\n",
       " ('estimated_sinc', -0.083657895287339801),\n",
       " ('estimated_intel', -0.0042435598263382834),\n",
       " ('estimated_fun', 0.16577734263488586),\n",
       " ('estimated_amb', -0.16622544086940005),\n",
       " ('estimated_shar', 0.10734905685433782),\n",
       " ('estimated_like', 0.21548066170057512),\n",
       " ('estimated_prob', 0.19232431299146113),\n",
       " ('diff_age', -0.010977358391474401),\n",
       " ('diff_attr', -0.10496806099479805),\n",
       " ('diff_sinc', 0.052346962312186829),\n",
       " ('diff_intel', -0.051373951162135056),\n",
       " ('diff_fun', -0.011616006615887131),\n",
       " ('diff_amb', 0.013938012733772043),\n",
       " ('diff_shar', -0.0029515800670596448),\n",
       " ('diff_like', -0.17979137560546532)]"
      ]
     },
     "execution_count": 19,
     "metadata": {},
     "output_type": "execute_result"
    }
   ],
   "source": [
    "zip(X, np.exp(model.coef_[0]) - 1)"
   ]
  },
  {
   "cell_type": "markdown",
   "metadata": {},
   "source": [
    "#### Interpretation of the result:\n",
    "1. **gender**: being a male (gender = 1), the odd of matching for a male is 16% less than the odd of matching for a female. \n",
    "2. **same race**: in the same race (samerace yes: 1), the odd of matching for same race is 17% less than the odd of matching for different race. \n",
    "3. **interest correlation**: one unit of increase in interest shared correlation, we expect to see the odd of matching 21% higher.\n",
    "4. **attractiveness rated by the partner**: one unit of increase in attractiveness rated by the other person, we expect to see matching odds of 16% higher. \n",
    "5. **fun rated by partner**: one unit of increase in fun rated by the other person, we expect to see matching odds of 18% higher. \n",
    "6. **ambitiousness rated by partner**: one unit of increase in ambitiousness rated by the other person, we expect to see matching odds of 12% higher. \n",
    "7. **like by partner**: one unit of increase in like rated by the other person, we expect to see matching odds of 41% higher. \n",
    "8. **attractiveness**: one unit of increase in attractivenss giving to the other person, we expect to see matching odds of 27% higher. \n",
    "9. **fun**: one unit of increase in fun givint to the other person, we expect to see matching odds of 16% higher. \n",
    "10. **ambitiousness**: one unit of increase in ambitiousness giving to the other person, we expect to see matching odds of 16% higher. \n",
    "11. **like**: one unit of increase in like giving to the other person, we expect to see matching odds of 21% higher. \n",
    "12. **diff in attractiveness**: one unit increase in the difference of attractivenss giving to the other person, and rating given by the other person, we expect to see matching odds of 10% lower. \n",
    "13. **diff in like**: one unit increase in the difference of like giving to the other person, and rating given by the other person, we expect to see matching odds of 18% lower. "
   ]
  },
  {
   "cell_type": "markdown",
   "metadata": {
    "collapsed": true
   },
   "source": [
    "### Step 6: Explore subsets"
   ]
  },
  {
   "cell_type": "code",
   "execution_count": 51,
   "metadata": {
    "collapsed": false,
    "scrolled": true
   },
   "outputs": [
    {
     "name": "stdout",
     "output_type": "stream",
     "text": [
      "female pop: 4184\n",
      "male pop: 4194\n",
      "Black/African American pop: 420\n",
      "European/Caucasian American pop: 4790\n",
      "Latino/Hispanic American pop: 664\n",
      "Asian/Pacific Islander/Asian American pop: 1982\n",
      "Native American pop: 0\n",
      "Other pop: 522\n"
     ]
    }
   ],
   "source": [
    "# Create gender subsets: female vs. male\n",
    "\n",
    "df_female = df[df['gender'] == 0]\n",
    "df_male = df[df['gender'] == 1]\n",
    "\n",
    "print 'female pop:', len(df_female)\n",
    "print 'male pop:', len(df_male)\n",
    "\n",
    "# Create race subsets:\n",
    "\n",
    "df_race_1 = df[df['estimated_race'] == 1]\n",
    "df_race_2 = df[df['estimated_race'] == 2]\n",
    "df_race_3 = df[df['estimated_race'] == 3]\n",
    "df_race_4 = df[df['estimated_race'] == 4]\n",
    "df_race_5 = df[df['estimated_race'] == 5]\n",
    "df_race_6 = df[df['estimated_race'] == 6]\n",
    "\n",
    "print 'Black/African American pop:', len(df_race_1)\n",
    "print 'European/Caucasian American pop:', len(df_race_2)\n",
    "print 'Latino/Hispanic American pop:', len(df_race_3)\n",
    "print 'Asian/Pacific Islander/Asian American pop:', len(df_race_4)\n",
    "print 'Native American pop:', len(df_race_5)\n",
    "print 'Other pop:', len(df_race_6)\n",
    "\n",
    "# Create fields subsets: \n",
    "df_law = df[df['estimated_field_cd'] == 1]\n",
    "df_med = df[df['estimated_field_cd'].isin([3,4])]\n",
    "df_sciences = df[df['estimated_field_cd'].isin([2,5,9,10,17])]\n",
    "df_arts = df[df['estimated_field_cd'].isin([6,7,11,13,14,15,16])]\n",
    "df_business = df[df['estimated_field_cd'] == 8]\n",
    "df_others = df[df['estimated_field_cd'].isin([12,18])]"
   ]
  },
  {
   "cell_type": "markdown",
   "metadata": {},
   "source": [
    "### Step 6 - part 1: gender difference"
   ]
  },
  {
   "cell_type": "code",
   "execution_count": 31,
   "metadata": {
    "collapsed": false
   },
   "outputs": [
    {
     "name": "stdout",
     "output_type": "stream",
     "text": [
      "intercept    = [-5.0785349]\n",
      "coefficients = [[-0.10899952  0.16217835 -0.05116395 -0.13409047  0.20065993 -0.07511268\n",
      "  -0.05047925  0.10827402 -0.09207402  0.0781762   0.31883536 -0.04957296\n",
      "   0.10372857  0.15158748 -0.08246267  0.03905947  0.17720989 -0.16567228\n",
      "   0.07365897  0.23011871  0.1664218  -0.01077348 -0.11246083 -0.00123261\n",
      "  -0.0320549  -0.04783438  0.02881955 -0.00500518 -0.12700898]]\n",
      "training misclassification = 0.863729508197\n",
      "testing  misclassification = 0.874203821656\n"
     ]
    }
   ],
   "source": [
    "X_female = df_female.drop(['gender','match', 'dec_o', 'dec','estimated_field_cd'], axis=1)\n",
    "y_female = df_female['match']  \n",
    "\n",
    "from sklearn import tree, cross_validation, linear_model, metrics\n",
    "\n",
    "X_train, X_test, y_train, y_test = cross_validation.train_test_split(X_female, y_female, test_size=0.3, random_state=1)\n",
    "\n",
    "model_female = linear_model.LogisticRegression()\n",
    "model_female.fit(X_train, y_train)\n",
    "\n",
    "print 'intercept    =', model_female.intercept_\n",
    "print 'coefficients =', model_female.coef_\n",
    "print 'training misclassification =', model_female.score(X_train, y_train)\n",
    "print 'testing  misclassification =', model_female.score(X_test, y_test)"
   ]
  },
  {
   "cell_type": "code",
   "execution_count": 30,
   "metadata": {
    "collapsed": false
   },
   "outputs": [
    {
     "name": "stdout",
     "output_type": "stream",
     "text": [
      "intercept    = [-4.78296842]\n",
      "coefficients = [[-0.18029904  0.0328874  -0.07002437  0.09416878  0.10294522 -0.08584413\n",
      "   0.02932537  0.23769061 -0.22419806  0.13037189  0.38354753 -0.06133089\n",
      "  -0.08564429  0.23572476 -0.06043633 -0.02237994  0.10953219 -0.12993037\n",
      "  -0.02090938  0.28481903  0.19107609 -0.01571744 -0.15767801  0.0554861\n",
      "  -0.05116344 -0.01513735  0.05731804 -0.07845726 -0.18574216]]\n",
      "training misclassification = 0.868824531516\n",
      "testing  misclassification = 0.85941223193\n"
     ]
    }
   ],
   "source": [
    "X_male = df_male.drop(['gender','match', 'dec_o', 'dec','estimated_field_cd'], axis=1)\n",
    "y_male = df_male['match']  \n",
    "\n",
    "from sklearn import tree, cross_validation, linear_model, metrics\n",
    "\n",
    "X_train, X_test, y_train, y_test = cross_validation.train_test_split(X_male, y_male, test_size=0.3, random_state=1)\n",
    "\n",
    "model_male = linear_model.LogisticRegression()\n",
    "model_male.fit(X_train, y_train)\n",
    "\n",
    "print 'intercept    =', model_male.intercept_\n",
    "print 'coefficients =', model_male.coef_\n",
    "print 'training misclassification =', model_male.score(X_train, y_train)\n",
    "print 'testing  misclassification =', model_male.score(X_test, y_test)"
   ]
  },
  {
   "cell_type": "code",
   "execution_count": 44,
   "metadata": {
    "collapsed": false
   },
   "outputs": [
    {
     "data": {
      "text/plain": [
       "[('samerace', -0.10326915205105891, -0.16497952733686028),\n",
       " ('estimated_int_corr', 0.17606997550662706, 0.03343417021397066),\n",
       " ('estimated_age_o', -0.049877119122539559, -0.06762890342648753),\n",
       " ('estimated_race_o', -0.12548905640570163, 0.098745178972957204),\n",
       " ('estimated_attr_o', 0.22220906630061332, 0.1084306869020244),\n",
       " ('estimated_sinc_o', -0.072361045562049142, -0.082262732519943427),\n",
       " ('estimated_intel_o', -0.049226346154602418, 0.029759597823639128),\n",
       " ('estimated_fun_o', 0.11435306270753687, 0.26831672229133341),\n",
       " ('estimated_amb_o', -0.087962357937401148, -0.20084316427402704),\n",
       " ('estimated_shar_o', 0.081313165073613636, 0.13925197933887135),\n",
       " ('estimated_like_o', 0.37552483922462554, 0.46748129858827614),\n",
       " ('estimated_age', -0.048364273613945241, -0.059488017480888389),\n",
       " ('estimated_race', 0.10929931842287677, -0.082079312262565485),\n",
       " ('estimated_attr', 0.16368009504338876, 0.26582585068208742),\n",
       " ('estimated_sinc', -0.079154183152365887, -0.058646294330349957),\n",
       " ('estimated_intel', 0.039832323108060397, -0.022131367082091957),\n",
       " ('estimated_fun', 0.1938816520141593, 0.11575598811933552),\n",
       " ('estimated_amb', -0.15267612817152709, -0.12184342746161259),\n",
       " ('estimated_shar', 0.076439642106755468, -0.020692298750443205),\n",
       " ('estimated_like', 0.25874942646164412, 0.32952139656622537),\n",
       " ('estimated_prob', 0.18107117839432663, 0.21055156060753766),\n",
       " ('diff_age', -0.010715653242434064, -0.015594561687637842),\n",
       " ('diff_attr', -0.10636764714237634, -0.14587524099056526),\n",
       " ('diff_sinc', -0.0012318548855488887, 0.057054327302144658),\n",
       " ('diff_intel', -0.031546591494783893, -0.049876632850391567),\n",
       " ('diff_fun', -0.046708341079301885, -0.015023356455351355),\n",
       " ('diff_amb', 0.029238850124585714, 0.058992564099127343),\n",
       " ('diff_shar', -0.0049926738105939839, -0.075458421398298059),\n",
       " ('diff_like', -0.11927424052647029, -0.16951229694979464)]"
      ]
     },
     "execution_count": 44,
     "metadata": {},
     "output_type": "execute_result"
    }
   ],
   "source": [
    "# To print out both gender side by side and compare the difference. \n",
    "zip(X_female, np.exp(model_female.coef_[0]) - 1,np.exp(model_male.coef_[0]) - 1)"
   ]
  },
  {
   "cell_type": "markdown",
   "metadata": {},
   "source": [
    "### Step 6 - part 2: race difference"
   ]
  },
  {
   "cell_type": "code",
   "execution_count": 45,
   "metadata": {
    "collapsed": false
   },
   "outputs": [
    {
     "name": "stdout",
     "output_type": "stream",
     "text": [
      "training misclassification = 0.853741496599\n",
      "testing  misclassification = 0.769841269841\n"
     ]
    }
   ],
   "source": [
    "X_race_1 = df_race_1.drop(['match', 'dec_o', 'dec','estimated_field_cd'], axis=1)\n",
    "y_race_1 = df_race_1['match']  \n",
    "\n",
    "X_train, X_test, y_train, y_test = cross_validation.train_test_split(X_race_1, y_race_1, test_size=0.3, random_state=1)\n",
    "\n",
    "model_race_1 = linear_model.LogisticRegression()\n",
    "model_race_1.fit(X_train, y_train)\n",
    "\n",
    "print 'training misclassification =', model_race_1.score(X_train, y_train)\n",
    "print 'testing  misclassification =', model_race_1.score(X_test, y_test)"
   ]
  },
  {
   "cell_type": "code",
   "execution_count": 46,
   "metadata": {
    "collapsed": false
   },
   "outputs": [
    {
     "name": "stdout",
     "output_type": "stream",
     "text": [
      "training misclassification = 0.861318222487\n",
      "testing  misclassification = 0.865692414753\n"
     ]
    }
   ],
   "source": [
    "X_race_2 = df_race_2.drop(['match', 'dec_o', 'dec','estimated_field_cd'], axis=1)\n",
    "y_race_2 = df_race_2['match']  \n",
    "\n",
    "X_train, X_test, y_train, y_test = cross_validation.train_test_split(X_race_2, y_race_2, test_size=0.3, random_state=1)\n",
    "\n",
    "model_race_2 = linear_model.LogisticRegression()\n",
    "model_race_2.fit(X_train, y_train)\n",
    "\n",
    "print 'training misclassification =', model_race_2.score(X_train, y_train)\n",
    "print 'testing  misclassification =', model_race_2.score(X_test, y_test)"
   ]
  },
  {
   "cell_type": "code",
   "execution_count": 47,
   "metadata": {
    "collapsed": false
   },
   "outputs": [
    {
     "name": "stdout",
     "output_type": "stream",
     "text": [
      "training misclassification = 0.859913793103\n",
      "testing  misclassification = 0.85\n"
     ]
    }
   ],
   "source": [
    "X_race_3 = df_race_3.drop(['match', 'dec_o', 'dec','estimated_field_cd'], axis=1)\n",
    "y_race_3 = df_race_3['match']  \n",
    "\n",
    "X_train, X_test, y_train, y_test = cross_validation.train_test_split(X_race_3, y_race_3, test_size=0.3, random_state=1)\n",
    "\n",
    "model_race_3 = linear_model.LogisticRegression()\n",
    "model_race_3.fit(X_train, y_train)\n",
    "\n",
    "print 'training misclassification =', model_race_3.score(X_train, y_train)\n",
    "print 'testing  misclassification =', model_race_3.score(X_test, y_test)"
   ]
  },
  {
   "cell_type": "code",
   "execution_count": 48,
   "metadata": {
    "collapsed": false
   },
   "outputs": [
    {
     "name": "stdout",
     "output_type": "stream",
     "text": [
      "training misclassification = 0.876712328767\n",
      "testing  misclassification = 0.887394957983\n"
     ]
    }
   ],
   "source": [
    "X_race_4 = df_race_4.drop(['match', 'dec_o', 'dec','estimated_field_cd'], axis=1)\n",
    "y_race_4 = df_race_4['match']  \n",
    "\n",
    "X_train, X_test, y_train, y_test = cross_validation.train_test_split(X_race_4, y_race_4, test_size=0.3, random_state=1)\n",
    "\n",
    "model_race_4 = linear_model.LogisticRegression()\n",
    "model_race_4.fit(X_train, y_train)\n",
    "\n",
    "print 'training misclassification =', model_race_4.score(X_train, y_train)\n",
    "print 'testing  misclassification =', model_race_4.score(X_test, y_test)"
   ]
  },
  {
   "cell_type": "code",
   "execution_count": 49,
   "metadata": {
    "collapsed": false
   },
   "outputs": [
    {
     "data": {
      "text/html": [
       "<div>\n",
       "<table border=\"1\" class=\"dataframe\">\n",
       "  <thead>\n",
       "    <tr style=\"text-align: right;\">\n",
       "      <th></th>\n",
       "      <th>features</th>\n",
       "      <th>race 1</th>\n",
       "      <th>race 2</th>\n",
       "      <th>race 3</th>\n",
       "      <th>race 4</th>\n",
       "    </tr>\n",
       "  </thead>\n",
       "  <tbody>\n",
       "    <tr>\n",
       "      <th>0</th>\n",
       "      <td>gender</td>\n",
       "      <td>-0.551277</td>\n",
       "      <td>0.403963</td>\n",
       "      <td>-0.414884</td>\n",
       "      <td>-0.304255</td>\n",
       "    </tr>\n",
       "    <tr>\n",
       "      <th>1</th>\n",
       "      <td>samerace</td>\n",
       "      <td>0.821243</td>\n",
       "      <td>-0.064010</td>\n",
       "      <td>0.056114</td>\n",
       "      <td>-0.020669</td>\n",
       "    </tr>\n",
       "    <tr>\n",
       "      <th>2</th>\n",
       "      <td>estimated_int_corr</td>\n",
       "      <td>0.047282</td>\n",
       "      <td>-0.015543</td>\n",
       "      <td>1.054210</td>\n",
       "      <td>0.503466</td>\n",
       "    </tr>\n",
       "    <tr>\n",
       "      <th>3</th>\n",
       "      <td>estimated_age_o</td>\n",
       "      <td>-0.051826</td>\n",
       "      <td>-0.031428</td>\n",
       "      <td>-0.013957</td>\n",
       "      <td>-0.026597</td>\n",
       "    </tr>\n",
       "    <tr>\n",
       "      <th>4</th>\n",
       "      <td>estimated_race_o</td>\n",
       "      <td>0.239823</td>\n",
       "      <td>-0.043482</td>\n",
       "      <td>0.087289</td>\n",
       "      <td>0.076606</td>\n",
       "    </tr>\n",
       "    <tr>\n",
       "      <th>5</th>\n",
       "      <td>estimated_attr_o</td>\n",
       "      <td>0.364997</td>\n",
       "      <td>0.155960</td>\n",
       "      <td>0.129879</td>\n",
       "      <td>0.221362</td>\n",
       "    </tr>\n",
       "    <tr>\n",
       "      <th>6</th>\n",
       "      <td>estimated_sinc_o</td>\n",
       "      <td>-0.118682</td>\n",
       "      <td>-0.023572</td>\n",
       "      <td>0.024284</td>\n",
       "      <td>-0.055312</td>\n",
       "    </tr>\n",
       "    <tr>\n",
       "      <th>7</th>\n",
       "      <td>estimated_intel_o</td>\n",
       "      <td>0.086906</td>\n",
       "      <td>-0.030501</td>\n",
       "      <td>0.018609</td>\n",
       "      <td>0.036123</td>\n",
       "    </tr>\n",
       "    <tr>\n",
       "      <th>8</th>\n",
       "      <td>estimated_fun_o</td>\n",
       "      <td>0.158967</td>\n",
       "      <td>0.249038</td>\n",
       "      <td>0.095039</td>\n",
       "      <td>0.116614</td>\n",
       "    </tr>\n",
       "    <tr>\n",
       "      <th>9</th>\n",
       "      <td>estimated_amb_o</td>\n",
       "      <td>-0.326355</td>\n",
       "      <td>-0.157391</td>\n",
       "      <td>-0.104324</td>\n",
       "      <td>-0.073125</td>\n",
       "    </tr>\n",
       "    <tr>\n",
       "      <th>10</th>\n",
       "      <td>estimated_shar_o</td>\n",
       "      <td>0.395999</td>\n",
       "      <td>0.087492</td>\n",
       "      <td>0.004690</td>\n",
       "      <td>0.102716</td>\n",
       "    </tr>\n",
       "    <tr>\n",
       "      <th>11</th>\n",
       "      <td>estimated_like_o</td>\n",
       "      <td>0.217179</td>\n",
       "      <td>0.368461</td>\n",
       "      <td>0.785365</td>\n",
       "      <td>0.216198</td>\n",
       "    </tr>\n",
       "    <tr>\n",
       "      <th>12</th>\n",
       "      <td>estimated_age</td>\n",
       "      <td>-0.179146</td>\n",
       "      <td>-0.022410</td>\n",
       "      <td>-0.103458</td>\n",
       "      <td>0.010541</td>\n",
       "    </tr>\n",
       "    <tr>\n",
       "      <th>13</th>\n",
       "      <td>estimated_race</td>\n",
       "      <td>-0.687178</td>\n",
       "      <td>-0.958366</td>\n",
       "      <td>-0.884431</td>\n",
       "      <td>-0.823915</td>\n",
       "    </tr>\n",
       "    <tr>\n",
       "      <th>14</th>\n",
       "      <td>estimated_attr</td>\n",
       "      <td>0.779460</td>\n",
       "      <td>0.246543</td>\n",
       "      <td>0.158386</td>\n",
       "      <td>0.103289</td>\n",
       "    </tr>\n",
       "    <tr>\n",
       "      <th>15</th>\n",
       "      <td>estimated_sinc</td>\n",
       "      <td>0.082466</td>\n",
       "      <td>-0.079335</td>\n",
       "      <td>-0.185952</td>\n",
       "      <td>-0.010316</td>\n",
       "    </tr>\n",
       "    <tr>\n",
       "      <th>16</th>\n",
       "      <td>estimated_intel</td>\n",
       "      <td>0.163410</td>\n",
       "      <td>0.030193</td>\n",
       "      <td>-0.057573</td>\n",
       "      <td>-0.014870</td>\n",
       "    </tr>\n",
       "    <tr>\n",
       "      <th>17</th>\n",
       "      <td>estimated_fun</td>\n",
       "      <td>-0.089643</td>\n",
       "      <td>0.076363</td>\n",
       "      <td>0.366630</td>\n",
       "      <td>0.210743</td>\n",
       "    </tr>\n",
       "    <tr>\n",
       "      <th>18</th>\n",
       "      <td>estimated_amb</td>\n",
       "      <td>-0.227382</td>\n",
       "      <td>-0.108444</td>\n",
       "      <td>-0.079365</td>\n",
       "      <td>-0.143002</td>\n",
       "    </tr>\n",
       "    <tr>\n",
       "      <th>19</th>\n",
       "      <td>estimated_shar</td>\n",
       "      <td>0.468332</td>\n",
       "      <td>0.036724</td>\n",
       "      <td>0.119745</td>\n",
       "      <td>0.171185</td>\n",
       "    </tr>\n",
       "    <tr>\n",
       "      <th>20</th>\n",
       "      <td>estimated_like</td>\n",
       "      <td>-0.133874</td>\n",
       "      <td>0.457363</td>\n",
       "      <td>0.465824</td>\n",
       "      <td>0.282705</td>\n",
       "    </tr>\n",
       "    <tr>\n",
       "      <th>21</th>\n",
       "      <td>estimated_prob</td>\n",
       "      <td>0.194196</td>\n",
       "      <td>0.228925</td>\n",
       "      <td>0.171669</td>\n",
       "      <td>0.075319</td>\n",
       "    </tr>\n",
       "    <tr>\n",
       "      <th>22</th>\n",
       "      <td>diff_age</td>\n",
       "      <td>0.028701</td>\n",
       "      <td>-0.004508</td>\n",
       "      <td>-0.081475</td>\n",
       "      <td>-0.080450</td>\n",
       "    </tr>\n",
       "    <tr>\n",
       "      <th>23</th>\n",
       "      <td>diff_attr</td>\n",
       "      <td>-0.201976</td>\n",
       "      <td>-0.175365</td>\n",
       "      <td>-0.181460</td>\n",
       "      <td>-0.031311</td>\n",
       "    </tr>\n",
       "    <tr>\n",
       "      <th>24</th>\n",
       "      <td>diff_sinc</td>\n",
       "      <td>0.007461</td>\n",
       "      <td>0.159985</td>\n",
       "      <td>-0.145404</td>\n",
       "      <td>-0.083301</td>\n",
       "    </tr>\n",
       "    <tr>\n",
       "      <th>25</th>\n",
       "      <td>diff_intel</td>\n",
       "      <td>-0.400166</td>\n",
       "      <td>-0.056847</td>\n",
       "      <td>-0.193082</td>\n",
       "      <td>0.000578</td>\n",
       "    </tr>\n",
       "    <tr>\n",
       "      <th>26</th>\n",
       "      <td>diff_fun</td>\n",
       "      <td>-0.053910</td>\n",
       "      <td>-0.011932</td>\n",
       "      <td>0.070354</td>\n",
       "      <td>-0.087179</td>\n",
       "    </tr>\n",
       "    <tr>\n",
       "      <th>27</th>\n",
       "      <td>diff_amb</td>\n",
       "      <td>0.109453</td>\n",
       "      <td>0.000830</td>\n",
       "      <td>0.083641</td>\n",
       "      <td>0.077375</td>\n",
       "    </tr>\n",
       "    <tr>\n",
       "      <th>28</th>\n",
       "      <td>diff_shar</td>\n",
       "      <td>-0.139323</td>\n",
       "      <td>-0.029144</td>\n",
       "      <td>-0.027906</td>\n",
       "      <td>-0.059192</td>\n",
       "    </tr>\n",
       "    <tr>\n",
       "      <th>29</th>\n",
       "      <td>diff_like</td>\n",
       "      <td>-0.152441</td>\n",
       "      <td>-0.147857</td>\n",
       "      <td>0.139494</td>\n",
       "      <td>-0.151564</td>\n",
       "    </tr>\n",
       "  </tbody>\n",
       "</table>\n",
       "</div>"
      ],
      "text/plain": [
       "              features    race 1    race 2    race 3    race 4\n",
       "0               gender -0.551277  0.403963 -0.414884 -0.304255\n",
       "1             samerace  0.821243 -0.064010  0.056114 -0.020669\n",
       "2   estimated_int_corr  0.047282 -0.015543  1.054210  0.503466\n",
       "3      estimated_age_o -0.051826 -0.031428 -0.013957 -0.026597\n",
       "4     estimated_race_o  0.239823 -0.043482  0.087289  0.076606\n",
       "5     estimated_attr_o  0.364997  0.155960  0.129879  0.221362\n",
       "6     estimated_sinc_o -0.118682 -0.023572  0.024284 -0.055312\n",
       "7    estimated_intel_o  0.086906 -0.030501  0.018609  0.036123\n",
       "8      estimated_fun_o  0.158967  0.249038  0.095039  0.116614\n",
       "9      estimated_amb_o -0.326355 -0.157391 -0.104324 -0.073125\n",
       "10    estimated_shar_o  0.395999  0.087492  0.004690  0.102716\n",
       "11    estimated_like_o  0.217179  0.368461  0.785365  0.216198\n",
       "12       estimated_age -0.179146 -0.022410 -0.103458  0.010541\n",
       "13      estimated_race -0.687178 -0.958366 -0.884431 -0.823915\n",
       "14      estimated_attr  0.779460  0.246543  0.158386  0.103289\n",
       "15      estimated_sinc  0.082466 -0.079335 -0.185952 -0.010316\n",
       "16     estimated_intel  0.163410  0.030193 -0.057573 -0.014870\n",
       "17       estimated_fun -0.089643  0.076363  0.366630  0.210743\n",
       "18       estimated_amb -0.227382 -0.108444 -0.079365 -0.143002\n",
       "19      estimated_shar  0.468332  0.036724  0.119745  0.171185\n",
       "20      estimated_like -0.133874  0.457363  0.465824  0.282705\n",
       "21      estimated_prob  0.194196  0.228925  0.171669  0.075319\n",
       "22            diff_age  0.028701 -0.004508 -0.081475 -0.080450\n",
       "23           diff_attr -0.201976 -0.175365 -0.181460 -0.031311\n",
       "24           diff_sinc  0.007461  0.159985 -0.145404 -0.083301\n",
       "25          diff_intel -0.400166 -0.056847 -0.193082  0.000578\n",
       "26            diff_fun -0.053910 -0.011932  0.070354 -0.087179\n",
       "27            diff_amb  0.109453  0.000830  0.083641  0.077375\n",
       "28           diff_shar -0.139323 -0.029144 -0.027906 -0.059192\n",
       "29           diff_like -0.152441 -0.147857  0.139494 -0.151564"
      ]
     },
     "execution_count": 49,
     "metadata": {},
     "output_type": "execute_result"
    }
   ],
   "source": [
    "pd.DataFrame(data = zip(X_race_1, np.exp(model_race_1.coef_[0]) - 1, np.exp(model_race_2.coef_[0]) - 1,\\\n",
    "                 np.exp(model_race_3.coef_[0]) - 1, np.exp(model_race_4.coef_[0]) - 1),\\\n",
    "             columns = ['features','race 1', 'race 2','race 3', 'race 4'])"
   ]
  },
  {
   "cell_type": "markdown",
   "metadata": {},
   "source": [
    "### Step 6 - part 3: field difference"
   ]
  },
  {
   "cell_type": "code",
   "execution_count": 50,
   "metadata": {
    "collapsed": false
   },
   "outputs": [
    {
     "name": "stdout",
     "output_type": "stream",
     "text": [
      "training misclassification = 0.840860215054\n",
      "testing  misclassification = 0.84\n"
     ]
    }
   ],
   "source": [
    "X_law = df_law.drop(['match', 'dec_o', 'dec','estimated_field_cd'], axis=1)\n",
    "y_law = df_law['match']  \n",
    "\n",
    "X_train, X_test, y_train, y_test = cross_validation.train_test_split(X_law, y_law, test_size=0.3, random_state=1)\n",
    "\n",
    "model_law = linear_model.LogisticRegression()\n",
    "model_law.fit(X_train, y_train)\n",
    "\n",
    "print 'training misclassification =', model_law.score(X_train, y_train)\n",
    "print 'testing  misclassification =', model_law.score(X_test, y_test)"
   ]
  },
  {
   "cell_type": "code",
   "execution_count": 52,
   "metadata": {
    "collapsed": false
   },
   "outputs": [
    {
     "name": "stdout",
     "output_type": "stream",
     "text": [
      "training misclassification = 0.848381601363\n",
      "testing  misclassification = 0.801587301587\n"
     ]
    }
   ],
   "source": [
    "X_med = df_med.drop(['match', 'dec_o', 'dec','estimated_field_cd'], axis=1)\n",
    "y_med = df_med['match']  \n",
    "\n",
    "X_train, X_test, y_train, y_test = cross_validation.train_test_split(X_med, y_med, test_size=0.3, random_state=1)\n",
    "\n",
    "model_med = linear_model.LogisticRegression()\n",
    "model_med.fit(X_train, y_train)\n",
    "\n",
    "print 'training misclassification =', model_med.score(X_train, y_train)\n",
    "print 'testing  misclassification =', model_med.score(X_test, y_test)"
   ]
  },
  {
   "cell_type": "code",
   "execution_count": 53,
   "metadata": {
    "collapsed": false
   },
   "outputs": [
    {
     "name": "stdout",
     "output_type": "stream",
     "text": [
      "training misclassification = 0.880423280423\n",
      "testing  misclassification = 0.859259259259\n"
     ]
    }
   ],
   "source": [
    "X_sciences = df_sciences.drop(['match', 'dec_o', 'dec','estimated_field_cd'], axis=1)\n",
    "y_sciences = df_sciences['match']  \n",
    "\n",
    "X_train, X_test, y_train, y_test = cross_validation.train_test_split(X_sciences, y_sciences, test_size=0.3, random_state=1)\n",
    "\n",
    "model_sciences = linear_model.LogisticRegression()\n",
    "model_sciences.fit(X_train, y_train)\n",
    "\n",
    "print 'training misclassification =', model_sciences.score(X_train, y_train)\n",
    "print 'testing  misclassification =', model_sciences.score(X_test, y_test)"
   ]
  },
  {
   "cell_type": "code",
   "execution_count": 54,
   "metadata": {
    "collapsed": false
   },
   "outputs": [
    {
     "name": "stdout",
     "output_type": "stream",
     "text": [
      "training misclassification = 0.87593728698\n",
      "testing  misclassification = 0.850556438792\n"
     ]
    }
   ],
   "source": [
    "X_arts = df_arts.drop(['match', 'dec_o', 'dec','estimated_field_cd'], axis=1)\n",
    "y_arts = df_arts['match']  \n",
    "\n",
    "X_train, X_test, y_train, y_test = cross_validation.train_test_split(X_arts, y_arts, test_size=0.3, random_state=1)\n",
    "\n",
    "model_arts = linear_model.LogisticRegression()\n",
    "model_arts.fit(X_train, y_train)\n",
    "\n",
    "print 'training misclassification =', model_arts.score(X_train, y_train)\n",
    "print 'testing  misclassification =', model_arts.score(X_test, y_test)"
   ]
  },
  {
   "cell_type": "code",
   "execution_count": 55,
   "metadata": {
    "collapsed": false
   },
   "outputs": [
    {
     "name": "stdout",
     "output_type": "stream",
     "text": [
      "training misclassification = 0.859686609687\n",
      "testing  misclassification = 0.845771144279\n"
     ]
    }
   ],
   "source": [
    "X_business = df_business.drop(['match', 'dec_o', 'dec','estimated_field_cd'], axis=1)\n",
    "y_business = df_business['match']  \n",
    "\n",
    "X_train, X_test, y_train, y_test = cross_validation.train_test_split(X_business, y_business, test_size=0.3, random_state=1)\n",
    "\n",
    "model_business = linear_model.LogisticRegression()\n",
    "model_business.fit(X_train, y_train)\n",
    "\n",
    "print 'training misclassification =', model_business.score(X_train, y_train)\n",
    "print 'testing  misclassification =', model_business.score(X_test, y_test)"
   ]
  },
  {
   "cell_type": "code",
   "execution_count": 56,
   "metadata": {
    "collapsed": false
   },
   "outputs": [
    {
     "data": {
      "text/html": [
       "<div>\n",
       "<table border=\"1\" class=\"dataframe\">\n",
       "  <thead>\n",
       "    <tr style=\"text-align: right;\">\n",
       "      <th></th>\n",
       "      <th>Features</th>\n",
       "      <th>Law</th>\n",
       "      <th>Med</th>\n",
       "      <th>Sciences</th>\n",
       "      <th>Arts</th>\n",
       "      <th>Business</th>\n",
       "    </tr>\n",
       "  </thead>\n",
       "  <tbody>\n",
       "    <tr>\n",
       "      <th>0</th>\n",
       "      <td>gender</td>\n",
       "      <td>-0.289848</td>\n",
       "      <td>0.587341</td>\n",
       "      <td>0.052309</td>\n",
       "      <td>0.184258</td>\n",
       "      <td>-0.220742</td>\n",
       "    </tr>\n",
       "    <tr>\n",
       "      <th>1</th>\n",
       "      <td>samerace</td>\n",
       "      <td>0.153788</td>\n",
       "      <td>-0.281947</td>\n",
       "      <td>-0.233995</td>\n",
       "      <td>-0.084558</td>\n",
       "      <td>-0.218372</td>\n",
       "    </tr>\n",
       "    <tr>\n",
       "      <th>2</th>\n",
       "      <td>estimated_int_corr</td>\n",
       "      <td>-0.437150</td>\n",
       "      <td>0.689571</td>\n",
       "      <td>0.067010</td>\n",
       "      <td>0.088649</td>\n",
       "      <td>0.252900</td>\n",
       "    </tr>\n",
       "    <tr>\n",
       "      <th>3</th>\n",
       "      <td>estimated_age_o</td>\n",
       "      <td>0.008292</td>\n",
       "      <td>-0.114563</td>\n",
       "      <td>-0.102517</td>\n",
       "      <td>-0.075655</td>\n",
       "      <td>-0.043187</td>\n",
       "    </tr>\n",
       "    <tr>\n",
       "      <th>4</th>\n",
       "      <td>estimated_race_o</td>\n",
       "      <td>0.072676</td>\n",
       "      <td>-0.191698</td>\n",
       "      <td>0.013519</td>\n",
       "      <td>-0.077336</td>\n",
       "      <td>-0.093131</td>\n",
       "    </tr>\n",
       "    <tr>\n",
       "      <th>5</th>\n",
       "      <td>estimated_attr_o</td>\n",
       "      <td>0.046358</td>\n",
       "      <td>0.461128</td>\n",
       "      <td>0.198726</td>\n",
       "      <td>0.125426</td>\n",
       "      <td>0.192002</td>\n",
       "    </tr>\n",
       "    <tr>\n",
       "      <th>6</th>\n",
       "      <td>estimated_sinc_o</td>\n",
       "      <td>-0.033576</td>\n",
       "      <td>-0.014044</td>\n",
       "      <td>0.001024</td>\n",
       "      <td>-0.174272</td>\n",
       "      <td>-0.068380</td>\n",
       "    </tr>\n",
       "    <tr>\n",
       "      <th>7</th>\n",
       "      <td>estimated_intel_o</td>\n",
       "      <td>0.091331</td>\n",
       "      <td>-0.022743</td>\n",
       "      <td>-0.010637</td>\n",
       "      <td>0.136776</td>\n",
       "      <td>-0.080983</td>\n",
       "    </tr>\n",
       "    <tr>\n",
       "      <th>8</th>\n",
       "      <td>estimated_fun_o</td>\n",
       "      <td>0.068303</td>\n",
       "      <td>0.189198</td>\n",
       "      <td>0.131107</td>\n",
       "      <td>0.229256</td>\n",
       "      <td>0.141177</td>\n",
       "    </tr>\n",
       "    <tr>\n",
       "      <th>9</th>\n",
       "      <td>estimated_amb_o</td>\n",
       "      <td>-0.155880</td>\n",
       "      <td>-0.228999</td>\n",
       "      <td>-0.057051</td>\n",
       "      <td>-0.351797</td>\n",
       "      <td>-0.139578</td>\n",
       "    </tr>\n",
       "    <tr>\n",
       "      <th>10</th>\n",
       "      <td>estimated_shar_o</td>\n",
       "      <td>0.244231</td>\n",
       "      <td>0.191807</td>\n",
       "      <td>0.138035</td>\n",
       "      <td>0.142317</td>\n",
       "      <td>0.054649</td>\n",
       "    </tr>\n",
       "    <tr>\n",
       "      <th>11</th>\n",
       "      <td>estimated_like_o</td>\n",
       "      <td>0.251086</td>\n",
       "      <td>0.206596</td>\n",
       "      <td>0.198934</td>\n",
       "      <td>0.543476</td>\n",
       "      <td>0.505628</td>\n",
       "    </tr>\n",
       "    <tr>\n",
       "      <th>12</th>\n",
       "      <td>estimated_age</td>\n",
       "      <td>-0.136476</td>\n",
       "      <td>-0.100489</td>\n",
       "      <td>-0.045104</td>\n",
       "      <td>-0.069874</td>\n",
       "      <td>-0.095103</td>\n",
       "    </tr>\n",
       "    <tr>\n",
       "      <th>13</th>\n",
       "      <td>estimated_race</td>\n",
       "      <td>-0.045784</td>\n",
       "      <td>0.082487</td>\n",
       "      <td>-0.027852</td>\n",
       "      <td>0.001696</td>\n",
       "      <td>-0.127607</td>\n",
       "    </tr>\n",
       "    <tr>\n",
       "      <th>14</th>\n",
       "      <td>estimated_attr</td>\n",
       "      <td>0.238069</td>\n",
       "      <td>0.061688</td>\n",
       "      <td>0.181236</td>\n",
       "      <td>0.072191</td>\n",
       "      <td>0.471761</td>\n",
       "    </tr>\n",
       "    <tr>\n",
       "      <th>15</th>\n",
       "      <td>estimated_sinc</td>\n",
       "      <td>-0.265596</td>\n",
       "      <td>-0.077324</td>\n",
       "      <td>-0.091319</td>\n",
       "      <td>-0.026741</td>\n",
       "      <td>-0.196244</td>\n",
       "    </tr>\n",
       "    <tr>\n",
       "      <th>16</th>\n",
       "      <td>estimated_intel</td>\n",
       "      <td>-0.043089</td>\n",
       "      <td>-0.054859</td>\n",
       "      <td>0.119893</td>\n",
       "      <td>-0.021564</td>\n",
       "      <td>-0.068959</td>\n",
       "    </tr>\n",
       "    <tr>\n",
       "      <th>17</th>\n",
       "      <td>estimated_fun</td>\n",
       "      <td>0.036812</td>\n",
       "      <td>0.360440</td>\n",
       "      <td>0.186472</td>\n",
       "      <td>0.243554</td>\n",
       "      <td>0.155100</td>\n",
       "    </tr>\n",
       "    <tr>\n",
       "      <th>18</th>\n",
       "      <td>estimated_amb</td>\n",
       "      <td>-0.245327</td>\n",
       "      <td>-0.229475</td>\n",
       "      <td>-0.156753</td>\n",
       "      <td>-0.168986</td>\n",
       "      <td>-0.076052</td>\n",
       "    </tr>\n",
       "    <tr>\n",
       "      <th>19</th>\n",
       "      <td>estimated_shar</td>\n",
       "      <td>0.152658</td>\n",
       "      <td>0.020464</td>\n",
       "      <td>0.052667</td>\n",
       "      <td>-0.025128</td>\n",
       "      <td>0.153618</td>\n",
       "    </tr>\n",
       "    <tr>\n",
       "      <th>20</th>\n",
       "      <td>estimated_like</td>\n",
       "      <td>0.311984</td>\n",
       "      <td>0.377468</td>\n",
       "      <td>0.187408</td>\n",
       "      <td>0.459466</td>\n",
       "      <td>0.278574</td>\n",
       "    </tr>\n",
       "    <tr>\n",
       "      <th>21</th>\n",
       "      <td>estimated_prob</td>\n",
       "      <td>0.285135</td>\n",
       "      <td>0.300449</td>\n",
       "      <td>0.243979</td>\n",
       "      <td>0.116906</td>\n",
       "      <td>0.217383</td>\n",
       "    </tr>\n",
       "    <tr>\n",
       "      <th>22</th>\n",
       "      <td>diff_age</td>\n",
       "      <td>0.011235</td>\n",
       "      <td>0.014880</td>\n",
       "      <td>-0.062857</td>\n",
       "      <td>-0.008393</td>\n",
       "      <td>0.040771</td>\n",
       "    </tr>\n",
       "    <tr>\n",
       "      <th>23</th>\n",
       "      <td>diff_attr</td>\n",
       "      <td>-0.169153</td>\n",
       "      <td>-0.035094</td>\n",
       "      <td>-0.195218</td>\n",
       "      <td>-0.088426</td>\n",
       "      <td>-0.067909</td>\n",
       "    </tr>\n",
       "    <tr>\n",
       "      <th>24</th>\n",
       "      <td>diff_sinc</td>\n",
       "      <td>0.213765</td>\n",
       "      <td>-0.025499</td>\n",
       "      <td>0.023795</td>\n",
       "      <td>-0.101270</td>\n",
       "      <td>0.039473</td>\n",
       "    </tr>\n",
       "    <tr>\n",
       "      <th>25</th>\n",
       "      <td>diff_intel</td>\n",
       "      <td>-0.131178</td>\n",
       "      <td>-0.060618</td>\n",
       "      <td>-0.073159</td>\n",
       "      <td>-0.025522</td>\n",
       "      <td>-0.143792</td>\n",
       "    </tr>\n",
       "    <tr>\n",
       "      <th>26</th>\n",
       "      <td>diff_fun</td>\n",
       "      <td>-0.001138</td>\n",
       "      <td>-0.303269</td>\n",
       "      <td>0.106445</td>\n",
       "      <td>-0.093924</td>\n",
       "      <td>-0.069005</td>\n",
       "    </tr>\n",
       "    <tr>\n",
       "      <th>27</th>\n",
       "      <td>diff_amb</td>\n",
       "      <td>0.003111</td>\n",
       "      <td>0.071054</td>\n",
       "      <td>-0.007879</td>\n",
       "      <td>-0.047731</td>\n",
       "      <td>0.207400</td>\n",
       "    </tr>\n",
       "    <tr>\n",
       "      <th>28</th>\n",
       "      <td>diff_shar</td>\n",
       "      <td>-0.141456</td>\n",
       "      <td>-0.106580</td>\n",
       "      <td>-0.011346</td>\n",
       "      <td>0.001429</td>\n",
       "      <td>0.024312</td>\n",
       "    </tr>\n",
       "    <tr>\n",
       "      <th>29</th>\n",
       "      <td>diff_like</td>\n",
       "      <td>-0.119045</td>\n",
       "      <td>0.034414</td>\n",
       "      <td>-0.124883</td>\n",
       "      <td>-0.026949</td>\n",
       "      <td>-0.253001</td>\n",
       "    </tr>\n",
       "  </tbody>\n",
       "</table>\n",
       "</div>"
      ],
      "text/plain": [
       "              Features       Law       Med  Sciences      Arts  Business\n",
       "0               gender -0.289848  0.587341  0.052309  0.184258 -0.220742\n",
       "1             samerace  0.153788 -0.281947 -0.233995 -0.084558 -0.218372\n",
       "2   estimated_int_corr -0.437150  0.689571  0.067010  0.088649  0.252900\n",
       "3      estimated_age_o  0.008292 -0.114563 -0.102517 -0.075655 -0.043187\n",
       "4     estimated_race_o  0.072676 -0.191698  0.013519 -0.077336 -0.093131\n",
       "5     estimated_attr_o  0.046358  0.461128  0.198726  0.125426  0.192002\n",
       "6     estimated_sinc_o -0.033576 -0.014044  0.001024 -0.174272 -0.068380\n",
       "7    estimated_intel_o  0.091331 -0.022743 -0.010637  0.136776 -0.080983\n",
       "8      estimated_fun_o  0.068303  0.189198  0.131107  0.229256  0.141177\n",
       "9      estimated_amb_o -0.155880 -0.228999 -0.057051 -0.351797 -0.139578\n",
       "10    estimated_shar_o  0.244231  0.191807  0.138035  0.142317  0.054649\n",
       "11    estimated_like_o  0.251086  0.206596  0.198934  0.543476  0.505628\n",
       "12       estimated_age -0.136476 -0.100489 -0.045104 -0.069874 -0.095103\n",
       "13      estimated_race -0.045784  0.082487 -0.027852  0.001696 -0.127607\n",
       "14      estimated_attr  0.238069  0.061688  0.181236  0.072191  0.471761\n",
       "15      estimated_sinc -0.265596 -0.077324 -0.091319 -0.026741 -0.196244\n",
       "16     estimated_intel -0.043089 -0.054859  0.119893 -0.021564 -0.068959\n",
       "17       estimated_fun  0.036812  0.360440  0.186472  0.243554  0.155100\n",
       "18       estimated_amb -0.245327 -0.229475 -0.156753 -0.168986 -0.076052\n",
       "19      estimated_shar  0.152658  0.020464  0.052667 -0.025128  0.153618\n",
       "20      estimated_like  0.311984  0.377468  0.187408  0.459466  0.278574\n",
       "21      estimated_prob  0.285135  0.300449  0.243979  0.116906  0.217383\n",
       "22            diff_age  0.011235  0.014880 -0.062857 -0.008393  0.040771\n",
       "23           diff_attr -0.169153 -0.035094 -0.195218 -0.088426 -0.067909\n",
       "24           diff_sinc  0.213765 -0.025499  0.023795 -0.101270  0.039473\n",
       "25          diff_intel -0.131178 -0.060618 -0.073159 -0.025522 -0.143792\n",
       "26            diff_fun -0.001138 -0.303269  0.106445 -0.093924 -0.069005\n",
       "27            diff_amb  0.003111  0.071054 -0.007879 -0.047731  0.207400\n",
       "28           diff_shar -0.141456 -0.106580 -0.011346  0.001429  0.024312\n",
       "29           diff_like -0.119045  0.034414 -0.124883 -0.026949 -0.253001"
      ]
     },
     "execution_count": 56,
     "metadata": {},
     "output_type": "execute_result"
    }
   ],
   "source": [
    "pd.DataFrame(data = zip(X_law, np.exp(model_law.coef_[0]) - 1, np.exp(model_med.coef_[0]) - 1,\\\n",
    "                 np.exp(model_sciences.coef_[0]) - 1, np.exp(model_arts.coef_[0]) - 1, np.exp(model_business.coef_[0]) - 1),\\\n",
    "              columns = ['Features','Law', 'Med','Sciences', 'Arts', 'Business'])"
   ]
  },
  {
   "cell_type": "code",
   "execution_count": null,
   "metadata": {
    "collapsed": true
   },
   "outputs": [],
   "source": []
  }
 ],
 "metadata": {
  "kernelspec": {
   "display_name": "Python 2",
   "language": "python",
   "name": "python2"
  },
  "language_info": {
   "codemirror_mode": {
    "name": "ipython",
    "version": 2
   },
   "file_extension": ".py",
   "mimetype": "text/x-python",
   "name": "python",
   "nbconvert_exporter": "python",
   "pygments_lexer": "ipython2",
   "version": "2.7.11"
  }
 },
 "nbformat": 4,
 "nbformat_minor": 0
}
