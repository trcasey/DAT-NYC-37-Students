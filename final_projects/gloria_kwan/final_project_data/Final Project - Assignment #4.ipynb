{
 "cells": [
  {
   "cell_type": "code",
   "execution_count": 151,
   "metadata": {
    "collapsed": false
   },
   "outputs": [],
   "source": [
    "#Load libraries\n",
    "\n",
    "%matplotlib inline\n",
    "import matplotlib.pyplot as plt\n",
    "import pandas as pd\n",
    "import statsmodels.api as sm\n",
    "import pylab as pl\n",
    "import numpy as np\n",
    "import seaborn as sns\n",
    "from sklearn import linear_model, metrics, tree\n",
    "from sklearn.linear_model import LogisticRegression\n",
    "from sklearn.cross_validation import train_test_split, cross_val_score\n",
    "\n",
    "#matplotlib.style.use('ggplot')"
   ]
  },
  {
   "cell_type": "code",
   "execution_count": 117,
   "metadata": {
    "collapsed": false
   },
   "outputs": [
    {
     "data": {
      "text/html": [
       "<div>\n",
       "<table border=\"1\" class=\"dataframe\">\n",
       "  <thead>\n",
       "    <tr style=\"text-align: right;\">\n",
       "      <th></th>\n",
       "      <th>DBN</th>\n",
       "      <th>School Name</th>\n",
       "      <th>Cohort Year</th>\n",
       "      <th>Cohort Category</th>\n",
       "      <th>Demographic</th>\n",
       "      <th>Total Cohort Num</th>\n",
       "      <th>Total Grads Num</th>\n",
       "      <th>Total Grads Pct of cohort</th>\n",
       "      <th>Total Regents Num</th>\n",
       "      <th>Total Regents Pct of cohort</th>\n",
       "      <th>...</th>\n",
       "      <th>Regents w/o Advanced Num</th>\n",
       "      <th>Regents w/o Advanced Pct of cohort</th>\n",
       "      <th>Regents w/o Advanced Pct of grads</th>\n",
       "      <th>Local Num</th>\n",
       "      <th>Local Pct of cohort</th>\n",
       "      <th>Local Pct of grads</th>\n",
       "      <th>Still Enrolled Num</th>\n",
       "      <th>Still Enrolled Pct of cohort</th>\n",
       "      <th>Dropped Out Num</th>\n",
       "      <th>Dropped Out Pct of cohort</th>\n",
       "    </tr>\n",
       "  </thead>\n",
       "  <tbody>\n",
       "    <tr>\n",
       "      <th>0</th>\n",
       "      <td>01M056</td>\n",
       "      <td>CORLEARS SCHOOL</td>\n",
       "      <td>2001</td>\n",
       "      <td>4 Year  June</td>\n",
       "      <td>Hispanic</td>\n",
       "      <td>1</td>\n",
       "      <td>s</td>\n",
       "      <td>s</td>\n",
       "      <td>s</td>\n",
       "      <td>s</td>\n",
       "      <td>...</td>\n",
       "      <td>s</td>\n",
       "      <td>s</td>\n",
       "      <td>s</td>\n",
       "      <td>s</td>\n",
       "      <td>s</td>\n",
       "      <td>s</td>\n",
       "      <td>s</td>\n",
       "      <td>s</td>\n",
       "      <td>s</td>\n",
       "      <td>s</td>\n",
       "    </tr>\n",
       "    <tr>\n",
       "      <th>1</th>\n",
       "      <td>01M056</td>\n",
       "      <td>CORLEARS SCHOOL</td>\n",
       "      <td>2001</td>\n",
       "      <td>5 Year</td>\n",
       "      <td>Hispanic</td>\n",
       "      <td>1</td>\n",
       "      <td>s</td>\n",
       "      <td>s</td>\n",
       "      <td>s</td>\n",
       "      <td>s</td>\n",
       "      <td>...</td>\n",
       "      <td>s</td>\n",
       "      <td>s</td>\n",
       "      <td>s</td>\n",
       "      <td>s</td>\n",
       "      <td>s</td>\n",
       "      <td>s</td>\n",
       "      <td>s</td>\n",
       "      <td>s</td>\n",
       "      <td>s</td>\n",
       "      <td>s</td>\n",
       "    </tr>\n",
       "    <tr>\n",
       "      <th>2</th>\n",
       "      <td>01M056</td>\n",
       "      <td>CORLEARS SCHOOL</td>\n",
       "      <td>2001</td>\n",
       "      <td>6 Year</td>\n",
       "      <td>Hispanic</td>\n",
       "      <td>1</td>\n",
       "      <td>s</td>\n",
       "      <td>s</td>\n",
       "      <td>s</td>\n",
       "      <td>s</td>\n",
       "      <td>...</td>\n",
       "      <td>s</td>\n",
       "      <td>s</td>\n",
       "      <td>s</td>\n",
       "      <td>s</td>\n",
       "      <td>s</td>\n",
       "      <td>s</td>\n",
       "      <td>s</td>\n",
       "      <td>s</td>\n",
       "      <td>s</td>\n",
       "      <td>s</td>\n",
       "    </tr>\n",
       "    <tr>\n",
       "      <th>3</th>\n",
       "      <td>01M056</td>\n",
       "      <td>CORLEARS SCHOOL</td>\n",
       "      <td>2003</td>\n",
       "      <td>4 Year  June</td>\n",
       "      <td>Hispanic</td>\n",
       "      <td>1</td>\n",
       "      <td>s</td>\n",
       "      <td>s</td>\n",
       "      <td>s</td>\n",
       "      <td>s</td>\n",
       "      <td>...</td>\n",
       "      <td>s</td>\n",
       "      <td>s</td>\n",
       "      <td>s</td>\n",
       "      <td>s</td>\n",
       "      <td>s</td>\n",
       "      <td>s</td>\n",
       "      <td>s</td>\n",
       "      <td>s</td>\n",
       "      <td>s</td>\n",
       "      <td>s</td>\n",
       "    </tr>\n",
       "    <tr>\n",
       "      <th>4</th>\n",
       "      <td>01M056</td>\n",
       "      <td>CORLEARS SCHOOL</td>\n",
       "      <td>2003</td>\n",
       "      <td>5 Year</td>\n",
       "      <td>Hispanic</td>\n",
       "      <td>1</td>\n",
       "      <td>s</td>\n",
       "      <td>s</td>\n",
       "      <td>s</td>\n",
       "      <td>s</td>\n",
       "      <td>...</td>\n",
       "      <td>s</td>\n",
       "      <td>s</td>\n",
       "      <td>s</td>\n",
       "      <td>s</td>\n",
       "      <td>s</td>\n",
       "      <td>s</td>\n",
       "      <td>s</td>\n",
       "      <td>s</td>\n",
       "      <td>s</td>\n",
       "      <td>s</td>\n",
       "    </tr>\n",
       "  </tbody>\n",
       "</table>\n",
       "<p>5 rows × 24 columns</p>\n",
       "</div>"
      ],
      "text/plain": [
       "      DBN      School Name  Cohort Year Cohort Category Demographic  \\\n",
       "0  01M056  CORLEARS SCHOOL         2001    4 Year  June    Hispanic   \n",
       "1  01M056  CORLEARS SCHOOL         2001          5 Year    Hispanic   \n",
       "2  01M056  CORLEARS SCHOOL         2001          6 Year    Hispanic   \n",
       "3  01M056  CORLEARS SCHOOL         2003    4 Year  June    Hispanic   \n",
       "4  01M056  CORLEARS SCHOOL         2003          5 Year    Hispanic   \n",
       "\n",
       "   Total Cohort Num Total Grads Num Total Grads Pct of cohort  \\\n",
       "0                 1              s                          s   \n",
       "1                 1              s                          s   \n",
       "2                 1              s                          s   \n",
       "3                 1              s                          s   \n",
       "4                 1              s                          s   \n",
       "\n",
       "  Total Regents Num Total Regents Pct of cohort            ...             \\\n",
       "0                s                            s            ...              \n",
       "1                s                            s            ...              \n",
       "2                s                            s            ...              \n",
       "3                s                            s            ...              \n",
       "4                s                            s            ...              \n",
       "\n",
       "  Regents w/o Advanced Num Regents w/o Advanced Pct of cohort  \\\n",
       "0                       s                                   s   \n",
       "1                       s                                   s   \n",
       "2                       s                                   s   \n",
       "3                       s                                   s   \n",
       "4                       s                                   s   \n",
       "\n",
       "  Regents w/o Advanced Pct of grads Local Num Local Pct of cohort  \\\n",
       "0                                 s        s                    s   \n",
       "1                                 s        s                    s   \n",
       "2                                 s        s                    s   \n",
       "3                                 s        s                    s   \n",
       "4                                 s        s                    s   \n",
       "\n",
       "  Local Pct of grads Still Enrolled Num Still Enrolled Pct of cohort  \\\n",
       "0                  s                 s                             s   \n",
       "1                  s                 s                             s   \n",
       "2                  s                 s                             s   \n",
       "3                  s                 s                             s   \n",
       "4                  s                 s                             s   \n",
       "\n",
       "  Dropped Out Num Dropped Out Pct of cohort  \n",
       "0              s                          s  \n",
       "1              s                          s  \n",
       "2              s                          s  \n",
       "3              s                          s  \n",
       "4              s                          s  \n",
       "\n",
       "[5 rows x 24 columns]"
      ]
     },
     "execution_count": 117,
     "metadata": {},
     "output_type": "execute_result"
    }
   ],
   "source": [
    "df_raw = pd.read_csv(\"./Graduation_Outcomes_-_School_Level_-_Classes_of_2005-2011_-_Ethnicity.csv\")\n",
    "\n",
    "df_raw.head()\n",
    "\n",
    "#df_raw.columns"
   ]
  },
  {
   "cell_type": "code",
   "execution_count": 77,
   "metadata": {
    "collapsed": false
   },
   "outputs": [],
   "source": [
    "#Analysis Plan: \n",
    "#Get model first (with the most clean data as possible, then start adding additional data)\n",
    "#Linear\n",
    "#Decision tree\n",
    "\n",
    "#1. Drop rows with NaN\n",
    "#2. Replace NAs with average (Titanic - replaced with median age)"
   ]
  },
  {
   "cell_type": "code",
   "execution_count": 78,
   "metadata": {
    "collapsed": false
   },
   "outputs": [
    {
     "data": {
      "text/html": [
       "<div>\n",
       "<table border=\"1\" class=\"dataframe\">\n",
       "  <thead>\n",
       "    <tr style=\"text-align: right;\">\n",
       "      <th></th>\n",
       "      <th>demographic</th>\n",
       "      <th>total_grads_pct</th>\n",
       "    </tr>\n",
       "  </thead>\n",
       "  <tbody>\n",
       "    <tr>\n",
       "      <th>0</th>\n",
       "      <td>Hispanic</td>\n",
       "      <td>s</td>\n",
       "    </tr>\n",
       "    <tr>\n",
       "      <th>1</th>\n",
       "      <td>Hispanic</td>\n",
       "      <td>s</td>\n",
       "    </tr>\n",
       "    <tr>\n",
       "      <th>2</th>\n",
       "      <td>Hispanic</td>\n",
       "      <td>s</td>\n",
       "    </tr>\n",
       "    <tr>\n",
       "      <th>3</th>\n",
       "      <td>Hispanic</td>\n",
       "      <td>s</td>\n",
       "    </tr>\n",
       "    <tr>\n",
       "      <th>4</th>\n",
       "      <td>Hispanic</td>\n",
       "      <td>s</td>\n",
       "    </tr>\n",
       "  </tbody>\n",
       "</table>\n",
       "</div>"
      ],
      "text/plain": [
       "  demographic total_grads_pct\n",
       "0    Hispanic               s\n",
       "1    Hispanic               s\n",
       "2    Hispanic               s\n",
       "3    Hispanic               s\n",
       "4    Hispanic               s"
      ]
     },
     "execution_count": 78,
     "metadata": {},
     "output_type": "execute_result"
    }
   ],
   "source": [
    "#Pick which columns you need\n",
    "\n",
    "df_simple = df_raw[['Demographic', 'Total Grads Pct of cohort']]\n",
    "\n",
    "#Rename columns\n",
    "df_simple.rename(columns={'Demographic': 'demographic', 'Total Grads Pct of cohort': 'total_grads_pct'}, inplace=True)\n",
    "\n",
    "df_simple.head()"
   ]
  },
  {
   "cell_type": "code",
   "execution_count": 79,
   "metadata": {
    "collapsed": false
   },
   "outputs": [
    {
     "data": {
      "text/plain": [
       "Index([u'demographic', u'total_grads_pct'], dtype='object')"
      ]
     },
     "execution_count": 79,
     "metadata": {},
     "output_type": "execute_result"
    }
   ],
   "source": [
    "#Drop the rows with the s values\n",
    "\n",
    "df_simple = df_simple[df_simple.total_grads_pct != 's']\n",
    "\n",
    "df_simple.columns"
   ]
  },
  {
   "cell_type": "code",
   "execution_count": 80,
   "metadata": {
    "collapsed": false
   },
   "outputs": [],
   "source": [
    "#Remove the % from total_grads_pct and converting it to a numeric value\n",
    "\n",
    "df_simple.total_grads_pct = df_simple['total_grads_pct'].apply(lambda x: float(x.replace('%', \"\")))"
   ]
  },
  {
   "cell_type": "code",
   "execution_count": 81,
   "metadata": {
    "collapsed": false
   },
   "outputs": [
    {
     "data": {
      "text/html": [
       "<div>\n",
       "<table border=\"1\" class=\"dataframe\">\n",
       "  <thead>\n",
       "    <tr style=\"text-align: right;\">\n",
       "      <th></th>\n",
       "      <th>total_grads_pct</th>\n",
       "      <th>Asian</th>\n",
       "      <th>Black</th>\n",
       "      <th>Hispanic</th>\n",
       "      <th>White</th>\n",
       "    </tr>\n",
       "  </thead>\n",
       "  <tbody>\n",
       "    <tr>\n",
       "      <th>25</th>\n",
       "      <td>65.2</td>\n",
       "      <td>0.0</td>\n",
       "      <td>1.0</td>\n",
       "      <td>0.0</td>\n",
       "      <td>0.0</td>\n",
       "    </tr>\n",
       "    <tr>\n",
       "      <th>26</th>\n",
       "      <td>62.5</td>\n",
       "      <td>0.0</td>\n",
       "      <td>1.0</td>\n",
       "      <td>0.0</td>\n",
       "      <td>0.0</td>\n",
       "    </tr>\n",
       "    <tr>\n",
       "      <th>27</th>\n",
       "      <td>65.2</td>\n",
       "      <td>0.0</td>\n",
       "      <td>1.0</td>\n",
       "      <td>0.0</td>\n",
       "      <td>0.0</td>\n",
       "    </tr>\n",
       "    <tr>\n",
       "      <th>28</th>\n",
       "      <td>76.2</td>\n",
       "      <td>0.0</td>\n",
       "      <td>1.0</td>\n",
       "      <td>0.0</td>\n",
       "      <td>0.0</td>\n",
       "    </tr>\n",
       "    <tr>\n",
       "      <th>29</th>\n",
       "      <td>81.0</td>\n",
       "      <td>0.0</td>\n",
       "      <td>1.0</td>\n",
       "      <td>0.0</td>\n",
       "      <td>0.0</td>\n",
       "    </tr>\n",
       "  </tbody>\n",
       "</table>\n",
       "</div>"
      ],
      "text/plain": [
       "    total_grads_pct  Asian  Black  Hispanic  White\n",
       "25             65.2    0.0    1.0       0.0    0.0\n",
       "26             62.5    0.0    1.0       0.0    0.0\n",
       "27             65.2    0.0    1.0       0.0    0.0\n",
       "28             76.2    0.0    1.0       0.0    0.0\n",
       "29             81.0    0.0    1.0       0.0    0.0"
      ]
     },
     "execution_count": 81,
     "metadata": {},
     "output_type": "execute_result"
    }
   ],
   "source": [
    "#Converting demographic groups into dummy variables\n",
    "demographic_dummy = pd.get_dummies(df_simple.demographic)\n",
    "\n",
    "#join the new dummy variables back into the larger dataset\n",
    "df_simple1 = df_simple.join(demographic_dummy)\n",
    "\n",
    "#Drop the demographic column\n",
    "df_simple1 = df_simple1.drop(['demographic'], axis=1)\n",
    "\n",
    "df_simple1.head()"
   ]
  },
  {
   "cell_type": "code",
   "execution_count": 82,
   "metadata": {
    "collapsed": false
   },
   "outputs": [
    {
     "data": {
      "text/plain": [
       "<matplotlib.axes._subplots.AxesSubplot at 0x11a43ef50>"
      ]
     },
     "execution_count": 82,
     "metadata": {},
     "output_type": "execute_result"
    },
    {
     "data": {
      "image/png": "[encoded data removed]",
      "text/plain": [
       "<matplotlib.figure.Figure at 0x11a49fa50>"
      ]
     },
     "metadata": {},
     "output_type": "display_data"
    }
   ],
   "source": [
    "#Visualization tools (seaborn, matplot)\n",
    "\n",
    "sns.heatmap(df_simple1.corr())"
   ]
  },
  {
   "cell_type": "code",
   "execution_count": 84,
   "metadata": {
    "collapsed": false
   },
   "outputs": [
    {
     "data": {
      "text/plain": [
       "-0.55027273435432245"
      ]
     },
     "execution_count": 84,
     "metadata": {},
     "output_type": "execute_result"
    }
   ],
   "source": [
    "#Check for skewness\n",
    "df_simple[\"total_grads_pct\"].skew() "
   ]
  },
  {
   "cell_type": "code",
   "execution_count": 85,
   "metadata": {
    "collapsed": false
   },
   "outputs": [
    {
     "name": "stdout",
     "output_type": "stream",
     "text": [
      "Average Graduation Percentages for All Groups 67.6162807018\n",
      "Average Graduation Percentages for Asians total_grads_pct    81.4485\n",
      "dtype: float64\n",
      "Average Graduation Percentages for Whites total_grads_pct    78.092231\n",
      "dtype: float64\n",
      "Average Graduation Percentages for Blacks total_grads_pct    64.714963\n",
      "dtype: float64\n",
      "Average Graduation Percentages for Hispanics total_grads_pct    63.340469\n",
      "dtype: float64\n"
     ]
    }
   ],
   "source": [
    "#Calculate the average graduation percentages for all groups  \n",
    "\n",
    "print \"Average Graduation Percentages for All Groups\", df_simple.total_grads_pct.mean()\n",
    "print \"Average Graduation Percentages for Asians\", df_simple[df_simple['demographic'] =='Asian'].mean()\n",
    "print \"Average Graduation Percentages for Whites\", df_simple[df_simple['demographic'] =='White'].mean()\n",
    "print \"Average Graduation Percentages for Blacks\", df_simple[df_simple['demographic'] =='Black'].mean()\n",
    "print \"Average Graduation Percentages for Hispanics\", df_simple[df_simple['demographic'] =='Hispanic'].mean()"
   ]
  },
  {
   "cell_type": "code",
   "execution_count": 86,
   "metadata": {
    "collapsed": false
   },
   "outputs": [
    {
     "name": "stdout",
     "output_type": "stream",
     "text": [
      "20.9333411347\n"
     ]
    }
   ],
   "source": [
    "#Calculate the standard deviation for total graduation percentages\n",
    "print df_simple.total_grads_pct.std()"
   ]
  },
  {
   "cell_type": "code",
   "execution_count": 87,
   "metadata": {
    "collapsed": false
   },
   "outputs": [
    {
     "data": {
      "text/plain": [
       "[<matplotlib.lines.Line2D at 0x11a61e390>]"
      ]
     },
     "execution_count": 87,
     "metadata": {},
     "output_type": "execute_result"
    },
    {
     "data": {
      "image/png": "[encoded data removed]",
      "text/plain": [
       "<matplotlib.figure.Figure at 0x119c1c2d0>"
      ]
     },
     "metadata": {},
     "output_type": "display_data"
    }
   ],
   "source": [
    "#Why is the data in such a wide range? Figure out the ranges, zoom in and reduce # of samples\n",
    "\n",
    "plt.plot(df_simple1[\"total_grads_pct\"])"
   ]
  },
  {
   "cell_type": "code",
   "execution_count": 88,
   "metadata": {
    "collapsed": false
   },
   "outputs": [
    {
     "data": {
      "image/png": "[encoded data removed]",
      "text/plain": [
       "<matplotlib.figure.Figure at 0x119c89350>"
      ]
     },
     "metadata": {},
     "output_type": "display_data"
    }
   ],
   "source": [
    "tips = sns.load_dataset(\"tips\")\n",
    "ax = sns.boxplot(x=\"demographic\", y=\"total_grads_pct\", data=df_simple)"
   ]
  },
  {
   "cell_type": "code",
   "execution_count": 89,
   "metadata": {
    "collapsed": false
   },
   "outputs": [
    {
     "data": {
      "text/plain": [
       "<matplotlib.text.Text at 0x11bfd9b50>"
      ]
     },
     "execution_count": 89,
     "metadata": {},
     "output_type": "execute_result"
    },
    {
     "data": {
      "image/png": "[encoded data removed]",
      "text/plain": [
       "<matplotlib.figure.Figure at 0x11b9b98d0>"
      ]
     },
     "metadata": {},
     "output_type": "display_data"
    }
   ],
   "source": [
    "#Creating charts\n",
    "\n",
    "fig = plt.figure(figsize=(18,6)) \n",
    "\n",
    "plot_1 = plt.subplot2grid((2,3),(1,0))\n",
    "total_grad_pct_25 = df_simple.total_grads_pct[:25]\n",
    "total_grad_pct_25.value_counts().plot(kind='bar', alpha=.3)\n",
    "plt.title(\"Distribution of First 25 Total Graduation Percentages\")  \n",
    "locs, labels = plt.xticks()\n",
    "plt.setp(labels, rotation=0)\n",
    "\n",
    "plot_2 = plt.subplot2grid((2,3),(0,1), colspan=2)\n",
    "df_simple['total_grads_pct'][df_simple['demographic'] == 'Hispanic'].plot(kind='kde')  \n",
    "df_simple['total_grads_pct'][df_simple['demographic'] == 'Asian'].plot(kind='kde')  \n",
    "df_simple['total_grads_pct'][df_simple['demographic'] == 'Black'].plot(kind='kde') \n",
    "df_simple['total_grads_pct'][df_simple['demographic'] == 'White'].plot(kind='kde')  \n",
    "plt.xlabel(\"Total Graduation Percentages\")    \n",
    "plt.title(\"Total Graduation Percentages by Demographic\")\n",
    "plt.legend(('Hispanic', 'Asian', 'Black', 'White'),loc='best') \n",
    "\n",
    "plot_3 = plt.subplot2grid((2,3),(0,0))              \n",
    "df_simple['demographic'].value_counts().plot(kind='bar', alpha=.3)\n",
    "plt.title(\"Distribution of Demographics\")"
   ]
  },
  {
   "cell_type": "code",
   "execution_count": 259,
   "metadata": {
    "collapsed": false
   },
   "outputs": [
    {
     "name": "stdout",
     "output_type": "stream",
     "text": [
      "Coefs:  [ -1.00677461  17.00245833  13.60919779]\n",
      "Intercept:  64.5015909674\n",
      "RSquared Train:  0.101596217016\n",
      "RSquared Test:  0.101965048182\n"
     ]
    }
   ],
   "source": [
    "# 2 - Split the data into train and test sets\n",
    "\n",
    "X = df_simple1[['Hispanic', 'Asian', 'White']]\n",
    "y = df_simple1.total_grads_pct\n",
    "\n",
    "#random_state is just a seed value for the initial state\n",
    "X_train, X_test, y_train, y_test = train_test_split(X, y, test_size=0.3, random_state=1)\n",
    "\n",
    "model = linear_model.LinearRegression()\n",
    "model.fit(X_train, y_train)\n",
    "\n",
    "print \"Coefs: \", model.coef_\n",
    "print \"Intercept: \", model.intercept_\n",
    "print \"RSquared Train: \", model.score(X_train, y_train)\n",
    "print \"RSquared Test: \", model.score(X_test, y_test)"
   ]
  },
  {
   "cell_type": "code",
   "execution_count": 91,
   "metadata": {
    "collapsed": true
   },
   "outputs": [],
   "source": [
    "# Optional: Convert them back into dataframes, for convenience\n",
    "train = pd.DataFrame(data=X_train, columns=['Hispanic', 'Asian', 'White', 'Black', 'total_grads_pct'])\n",
    "train['default'] = y_train\n",
    "\n",
    "test = pd.DataFrame(data=X_test, columns=['Hispanic', 'Asian', 'White', 'Black', 'total_grads_pct'])\n",
    "test['default'] = y_test"
   ]
  },
  {
   "cell_type": "code",
   "execution_count": 95,
   "metadata": {
    "collapsed": false
   },
   "outputs": [],
   "source": [
    "#Specifying the integer type for y_train \n",
    "y_train = y_train.astype(int)"
   ]
  },
  {
   "cell_type": "code",
   "execution_count": 105,
   "metadata": {
    "collapsed": false
   },
   "outputs": [
    {
     "name": "stdout",
     "output_type": "stream",
     "text": [
      "coefficients -1.60087928834\n",
      "intercept -4.92770353046\n"
     ]
    },
    {
     "data": {
      "text/plain": [
       "[('Hispanic', -0.79828092923395255),\n",
       " ('Asian', -0.63385541684339353),\n",
       " ('White', -0.79892459499433266),\n",
       " ('Black', -0.51228397694771266)]"
      ]
     },
     "execution_count": 105,
     "metadata": {},
     "output_type": "execute_result"
    }
   ],
   "source": [
    "#3 - Fit the model\n",
    "model = linear_model.LogisticRegression()\n",
    "model.fit(X_train, y_train)\n",
    "\n",
    "B1 = model.coef_[0][0]\n",
    "B0 = model.intercept_[0]\n",
    "np.exp(B1)\n",
    "\n",
    "print \"coefficients\", B1\n",
    "print \"intercept\", B0\n",
    "\n",
    "zip(names_X, np.exp(model.coef_[0]) - 1)"
   ]
  },
  {
   "cell_type": "code",
   "execution_count": 103,
   "metadata": {
    "collapsed": false
   },
   "outputs": [
    {
     "name": "stdout",
     "output_type": "stream",
     "text": [
      "training misclassification = 0.0404010025063\n",
      "testing misclassification = 0.0437426900585\n"
     ]
    }
   ],
   "source": [
    "X_test = X_test.astype(int)\n",
    "y_test = y_test.astype(int)\n",
    "\n",
    "print 'training misclassification =', model.score(X_train, y_train)\n",
    "print 'testing misclassification =', model.score(X_test, y_test)\n",
    "\n",
    "#The generalization error is higher than the training error. That makes sense since the model should better fit the training set.  "
   ]
  },
  {
   "cell_type": "code",
   "execution_count": 183,
   "metadata": {
    "collapsed": false
   },
   "outputs": [
    {
     "name": "stdout",
     "output_type": "stream",
     "text": [
      " 1633\n",
      "1609\n",
      "5547\n",
      "5461\n"
     ]
    }
   ],
   "source": [
    "print df_simple1[df_simple1['Asian'] == 1.0]['Asian'].count()\n",
    "print df_simple1[df_simple1['White'] == 1.0]['White'].count()\n",
    "print df_simple1[df_simple1['Black'] == 1.0]['Black'].count()\n",
    "print df_simple1[df_simple1['Hispanic'] == 1.0]['Hispanic'].count()"
   ]
  }
 ],
 "metadata": {
  "kernelspec": {
   "display_name": "Python 2",
   "language": "python",
   "name": "python2"
  },
  "language_info": {
   "codemirror_mode": {
    "name": "ipython",
    "version": 2
   },
   "file_extension": ".py",
   "mimetype": "text/x-python",
   "name": "python",
   "nbconvert_exporter": "python",
   "pygments_lexer": "ipython2",
   "version": "2.7.12"
  }
 },
 "nbformat": 4,
 "nbformat_minor": 0
}
