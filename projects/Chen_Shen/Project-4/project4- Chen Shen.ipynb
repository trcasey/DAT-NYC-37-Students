{
 "cells": [
  {
   "cell_type": "markdown",
   "metadata": {},
   "source": [
    "# Project 4\n",
    "\n",
    "In this project, you will summarize and present your analysis from Projects 1-3."
   ]
  },
  {
   "cell_type": "markdown",
   "metadata": {},
   "source": [
    "### Intro: Write a problem Statement/ Specific Aim for this project"
   ]
  },
  {
   "cell_type": "markdown",
   "metadata": {},
   "source": [
    "Answer: the goal of this study is to predict the probability of admit given the following features: gpa, gre score and prestige of college that students went to. "
   ]
  },
  {
   "cell_type": "markdown",
   "metadata": {},
   "source": [
    "### Dataset:  Write up a description of your data and any cleaning that was completed"
   ]
  },
  {
   "cell_type": "markdown",
   "metadata": {},
   "source": [
    "Answer: \n",
    "1. I used df_raw.count() to check how many observations that we have. We have 400 observation for this dataset. \n",
    "2. There're a couple missing data points. There are two options to handle the missing data in this case. \n",
    " - Since there're very few records missing, we can simply drop NANs using df_raw.dropna(). After dropping missing values, we have 397 observations in total. \n",
    " - Alternatively, we can replace the missing values with mean of the feature. \n",
    "3. Use  df.hist() to check distribution of gpa, gre score. gpa and gre score are slightly skewed toward upper bound, but overall, they are normally distributed. \n",
    "4. Use dtypes, we learned that gpa, gre are numerical data whereas prestige is categorical. Target - admit - is categorical as well. We then use get_dummies for all categorical data: prestige and admit. "
   ]
  },
  {
   "cell_type": "markdown",
   "metadata": {
    "collapsed": true
   },
   "source": [
    "### Demo: Provide a table that explains the data by admission status"
   ]
  },
  {
   "cell_type": "markdown",
   "metadata": {},
   "source": [
    "Mean (STD) or counts by admission status for each variable \n",
    "\n",
    "| Not Admitted | Admitted\n",
    "---| ---|---\n",
    "GPA | mean(std)  | mean(std)\n",
    "GRE |mean(std) | mean(std)\n",
    "Prestige 1 | frequency (%) | frequency (%)\n",
    "Prestige 2 | frequency (%) | frequency (%)\n",
    "Prestige 3 |frequency (%) | frequency (%)\n",
    "Prestige 4 |frequency (%) | frequency (%)"
   ]
  },
  {
   "cell_type": "markdown",
   "metadata": {},
   "source": [
    "### Methods: Write up the methods used in your analysis"
   ]
  },
  {
   "cell_type": "markdown",
   "metadata": {},
   "source": [
    "Answer: we will separate the data into 2 subsets: not_admitted and admitted. Not_admitted is not_admitted = df[df['admit'] == 0] whereas admitted is admitted = df[df['admit'] == 1].\n",
    "- in order to get mean and std for GPA and GRE: we will use method \"describe\" for each subset in order to get mean and std for all the features. \n",
    "- in order to get frequency for the 4 prestiges: we will use method \"value_counts\":  not_admitted['prestige'].value_counts(normalize = True) for not admitted subset and admitted['prestige'].value_counts(normalize = True) for admitted subset. "
   ]
  },
  {
   "cell_type": "markdown",
   "metadata": {},
   "source": [
    "### Results: Write up your results"
   ]
  },
  {
   "cell_type": "markdown",
   "metadata": {},
   "source": [
    "Answer: \n",
    "- Admitted subset had slightly higher GPA than not admitted subset\n",
    "- Admitted subset had a significantly higher average GRE score than not admitted subset\n",
    "- Over 68% of admitted students went to prestige 1 and 2 colleages whereas over 69% of not admitted students went to prestige 2 and 3 colleges\n",
    "- Only 9% of all students who got admitted went to prestige 4 college, 20% of all not admitted students went to prestige 4 college"
   ]
  },
  {
   "cell_type": "markdown",
   "metadata": {},
   "source": [
    "### Visuals: Provide a table or visualization of these results"
   ]
  },
  {
   "cell_type": "markdown",
   "metadata": {},
   "source": [
    "\n",
    "| Not Admitted | Admitted\n",
    "---| ---|---\n",
    "GPA | 3.35(0.38)  | 3.49(0.37)\n",
    "GRE |573.58(116.05) | 618.57(109.26)\n",
    "Prestige 1 | 10.33 (%) | 26.20 (%)\n",
    "Prestige 2 | 35.06 (%) | 42.07 (%)\n",
    "Prestige 3 | 34.32 (%) | 22.22 (%)\n",
    "Prestige 4 | 20.30 (%) | 9.52 (%)"
   ]
  },
  {
   "cell_type": "markdown",
   "metadata": {},
   "source": [
    "### Discussion: Write up your discussion and future steps"
   ]
  },
  {
   "cell_type": "markdown",
   "metadata": {},
   "source": [
    "Answer: From the result, it seems in order to be admitted, a high GRE score is important. Also, going to Prestige 1 school increases the chance of getting admitted. \n",
    "\n",
    "The next step will be to use Logistic Regression to try predict the probability of admit based on these 3 features: gre, gpa and prestige. "
   ]
  }
 ],
 "metadata": {
  "kernelspec": {
   "display_name": "Python 2",
   "language": "python",
   "name": "python2"
  },
  "language_info": {
   "codemirror_mode": {
    "name": "ipython",
    "version": 2
   },
   "file_extension": ".py",
   "mimetype": "text/x-python",
   "name": "python",
   "nbconvert_exporter": "python",
   "pygments_lexer": "ipython2",
   "version": "2.7.11"
  }
 },
 "nbformat": 4,
 "nbformat_minor": 0
}
