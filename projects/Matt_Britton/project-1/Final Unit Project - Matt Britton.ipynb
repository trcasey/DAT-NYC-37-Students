{
 "cells": [
  {
   "cell_type": "markdown",
   "metadata": {},
   "source": [
    "# Final Unit Project - Graduate School Admission Analysis\n",
    "##### Matt Britton (Matthew.Britton@ga.co)\n",
    "##### DAT 37 - August 5, 2016"
   ]
  },
  {
   "cell_type": "markdown",
   "metadata": {},
   "source": [
    "### Import packages, load data, etc"
   ]
  },
  {
   "cell_type": "code",
   "execution_count": 1,
   "metadata": {
    "collapsed": false
   },
   "outputs": [
    {
     "name": "stderr",
     "output_type": "stream",
     "text": [
      "/Users/mattbritton/anaconda/lib/python3.5/site-packages/sklearn/utils/fixes.py:64: DeprecationWarning: inspect.getargspec() is deprecated, use inspect.signature() instead\n",
      "  if 'order' in inspect.getargspec(np.copy)[0]:\n"
     ]
    }
   ],
   "source": [
    "#imports and setup\n",
    "import warnings\n",
    "with warnings.catch_warnings():\n",
    "    warnings.simplefilter(\"ignore\")\n",
    "    import pandas as pd\n",
    "    import numpy as np\n",
    "    import matplotlib.pyplot as plt\n",
    "    import seaborn as sns\n",
    "    from sklearn import cross_validation, linear_model, grid_search, metrics\n",
    "\n",
    "    %matplotlib inline"
   ]
  },
  {
   "cell_type": "code",
   "execution_count": 2,
   "metadata": {
    "collapsed": false
   },
   "outputs": [
    {
     "data": {
      "text/html": [
       "<div>\n",
       "<table border=\"1\" class=\"dataframe\">\n",
       "  <thead>\n",
       "    <tr style=\"text-align: right;\">\n",
       "      <th></th>\n",
       "      <th>admit</th>\n",
       "      <th>gre</th>\n",
       "      <th>gpa</th>\n",
       "      <th>prestige</th>\n",
       "    </tr>\n",
       "  </thead>\n",
       "  <tbody>\n",
       "    <tr>\n",
       "      <th>0</th>\n",
       "      <td>0</td>\n",
       "      <td>380.0</td>\n",
       "      <td>3.61</td>\n",
       "      <td>3.0</td>\n",
       "    </tr>\n",
       "    <tr>\n",
       "      <th>1</th>\n",
       "      <td>1</td>\n",
       "      <td>660.0</td>\n",
       "      <td>3.67</td>\n",
       "      <td>3.0</td>\n",
       "    </tr>\n",
       "    <tr>\n",
       "      <th>2</th>\n",
       "      <td>1</td>\n",
       "      <td>800.0</td>\n",
       "      <td>4.00</td>\n",
       "      <td>1.0</td>\n",
       "    </tr>\n",
       "    <tr>\n",
       "      <th>3</th>\n",
       "      <td>1</td>\n",
       "      <td>640.0</td>\n",
       "      <td>3.19</td>\n",
       "      <td>4.0</td>\n",
       "    </tr>\n",
       "    <tr>\n",
       "      <th>4</th>\n",
       "      <td>0</td>\n",
       "      <td>520.0</td>\n",
       "      <td>2.93</td>\n",
       "      <td>4.0</td>\n",
       "    </tr>\n",
       "  </tbody>\n",
       "</table>\n",
       "</div>"
      ],
      "text/plain": [
       "   admit    gre   gpa  prestige\n",
       "0      0  380.0  3.61       3.0\n",
       "1      1  660.0  3.67       3.0\n",
       "2      1  800.0  4.00       1.0\n",
       "3      1  640.0  3.19       4.0\n",
       "4      0  520.0  2.93       4.0"
      ]
     },
     "execution_count": 2,
     "metadata": {},
     "output_type": "execute_result"
    }
   ],
   "source": [
    "#Load Data and Display\n",
    "strFileName = '/Users/mattbritton/DAT-NYC-37/projects/unit-projects/project-3/assets/admissions.csv'\n",
    "dfRaw = pd.read_csv(strFileName)\n",
    "dfRaw.head(5)"
   ]
  },
  {
   "cell_type": "code",
   "execution_count": 3,
   "metadata": {
    "collapsed": false
   },
   "outputs": [
    {
     "name": "stdout",
     "output_type": "stream",
     "text": [
      "3 rows w/ blanks removed\n"
     ]
    }
   ],
   "source": [
    "#Create a new dataframe for the processed data\n",
    "#Remove nulls in the GRE and GPA field (there are only 3 so no big loss)\n",
    "dfClean = dfRaw[((dfRaw['gre'].isnull() == 0) & (dfRaw['gpa'].isnull() == 0))]\n",
    "print(len(dfRaw) - len(dfClean), \"rows w/ blanks removed\")"
   ]
  },
  {
   "cell_type": "markdown",
   "metadata": {},
   "source": [
    "### Describe and explore dataset before transformation"
   ]
  },
  {
   "cell_type": "code",
   "execution_count": 4,
   "metadata": {
    "collapsed": false
   },
   "outputs": [
    {
     "data": {
      "text/html": [
       "<div>\n",
       "<table border=\"1\" class=\"dataframe\">\n",
       "  <thead>\n",
       "    <tr style=\"text-align: right;\">\n",
       "      <th></th>\n",
       "      <th>admit</th>\n",
       "      <th>gre</th>\n",
       "      <th>gpa</th>\n",
       "      <th>prestige</th>\n",
       "    </tr>\n",
       "  </thead>\n",
       "  <tbody>\n",
       "    <tr>\n",
       "      <th>count</th>\n",
       "      <td>397.000000</td>\n",
       "      <td>397.000000</td>\n",
       "      <td>397.000000</td>\n",
       "      <td>397.000000</td>\n",
       "    </tr>\n",
       "    <tr>\n",
       "      <th>mean</th>\n",
       "      <td>0.317380</td>\n",
       "      <td>587.858942</td>\n",
       "      <td>3.392242</td>\n",
       "      <td>2.488665</td>\n",
       "    </tr>\n",
       "    <tr>\n",
       "      <th>std</th>\n",
       "      <td>0.466044</td>\n",
       "      <td>115.717787</td>\n",
       "      <td>0.380208</td>\n",
       "      <td>0.947083</td>\n",
       "    </tr>\n",
       "    <tr>\n",
       "      <th>min</th>\n",
       "      <td>0.000000</td>\n",
       "      <td>220.000000</td>\n",
       "      <td>2.260000</td>\n",
       "      <td>1.000000</td>\n",
       "    </tr>\n",
       "    <tr>\n",
       "      <th>25%</th>\n",
       "      <td>0.000000</td>\n",
       "      <td>520.000000</td>\n",
       "      <td>3.130000</td>\n",
       "      <td>2.000000</td>\n",
       "    </tr>\n",
       "    <tr>\n",
       "      <th>50%</th>\n",
       "      <td>0.000000</td>\n",
       "      <td>580.000000</td>\n",
       "      <td>3.400000</td>\n",
       "      <td>2.000000</td>\n",
       "    </tr>\n",
       "    <tr>\n",
       "      <th>75%</th>\n",
       "      <td>1.000000</td>\n",
       "      <td>660.000000</td>\n",
       "      <td>3.670000</td>\n",
       "      <td>3.000000</td>\n",
       "    </tr>\n",
       "    <tr>\n",
       "      <th>max</th>\n",
       "      <td>1.000000</td>\n",
       "      <td>800.000000</td>\n",
       "      <td>4.000000</td>\n",
       "      <td>4.000000</td>\n",
       "    </tr>\n",
       "  </tbody>\n",
       "</table>\n",
       "</div>"
      ],
      "text/plain": [
       "            admit         gre         gpa    prestige\n",
       "count  397.000000  397.000000  397.000000  397.000000\n",
       "mean     0.317380  587.858942    3.392242    2.488665\n",
       "std      0.466044  115.717787    0.380208    0.947083\n",
       "min      0.000000  220.000000    2.260000    1.000000\n",
       "25%      0.000000  520.000000    3.130000    2.000000\n",
       "50%      0.000000  580.000000    3.400000    2.000000\n",
       "75%      1.000000  660.000000    3.670000    3.000000\n",
       "max      1.000000  800.000000    4.000000    4.000000"
      ]
     },
     "execution_count": 4,
     "metadata": {},
     "output_type": "execute_result"
    }
   ],
   "source": [
    "#Describe and explore dataset before transformations\n",
    "dfClean.describe()"
   ]
  },
  {
   "cell_type": "markdown",
   "metadata": {},
   "source": [
    "### Preliminary Analysis and Odds Ratios\n",
    "\n",
    "*The heatmap below indicates a mild relationship between GRE/GPA and Admission, but nothing very strong.*"
   ]
  },
  {
   "cell_type": "code",
   "execution_count": 5,
   "metadata": {
    "collapsed": false
   },
   "outputs": [
    {
     "name": "stderr",
     "output_type": "stream",
     "text": [
      "/Users/mattbritton/anaconda/lib/python3.5/site-packages/matplotlib/collections.py:590: FutureWarning: elementwise comparison failed; returning scalar instead, but in the future will perform elementwise comparison\n",
      "  if self._edgecolors == str('face'):\n"
     ]
    },
    {
     "data": {
      "image/png": "[encoded data removed]",
      "text/plain": [
       "<matplotlib.figure.Figure at 0x1098fb0f0>"
      ]
     },
     "metadata": {},
     "output_type": "display_data"
    }
   ],
   "source": [
    "with warnings.catch_warnings():\n",
    "    warnings.simplefilter(\"ignore\")\n",
    "    sns.heatmap(dfClean.corr())"
   ]
  },
  {
   "cell_type": "markdown",
   "metadata": {},
   "source": [
    "#### GRE/GPA vs Admit\n",
    "*It appears that there isn't a strong direct relationship between GRE or GPA and admission. Prestige may be key.*"
   ]
  },
  {
   "cell_type": "code",
   "execution_count": 76,
   "metadata": {
    "collapsed": false
   },
   "outputs": [
    {
     "name": "stderr",
     "output_type": "stream",
     "text": [
      "/Users/mattbritton/anaconda/lib/python3.5/site-packages/matplotlib/collections.py:590: FutureWarning: elementwise comparison failed; returning scalar instead, but in the future will perform elementwise comparison\n",
      "  if self._edgecolors == str('face'):\n"
     ]
    },
    {
     "data": {
      "image/png": "[encoded data removed]",
      "text/plain": [
       "<matplotlib.figure.Figure at 0x10bfc5828>"
      ]
     },
     "metadata": {},
     "output_type": "display_data"
    }
   ],
   "source": [
    "# Create a visual overview of GPA and GRE scores vs admit \n",
    "# as a sanity check before the regression\n",
    "with warnings.catch_warnings():\n",
    "    warnings.simplefilter(\"ignore\")\n",
    "\n",
    "    no_admit = dfClean[dfClean.admit == 0]\n",
    "    admit = dfClean[dfClean.admit == 1]\n",
    "\n",
    "    #get mins and maxes for constructing appropriate chart ranges\n",
    "    dfCleanMins = dfClean.min()\n",
    "    dfCleanMaxs = dfClean.max()\n",
    "\n",
    "    plt.figure(figsize=(20,10)) \n",
    "\n",
    "    plt.scatter(admit.gpa, admit.gre, alpha = .5, marker='+', c= 'b', s=100)\n",
    "    plt.scatter(no_admit.gpa, no_admit.gre, marker='o', edgecolors = 'r', facecolors = 'none', s=100)\n",
    "    plt.xlim([0.95*dfCleanMins.loc['gpa'],1.1*dfCleanMaxs.loc['gpa']]); \n",
    "    plt.ylim([0.95*dfCleanMins.loc['gre'],1.1*dfCleanMaxs.loc['gre']]); \n",
    "    plt.legend( ('admit', 'no admit'), loc='upper left');"
   ]
  },
  {
   "cell_type": "markdown",
   "metadata": {},
   "source": [
    "#### Prestige vs Admit\n",
    "For students attending #1 schools, the change of being accepted is 33/61, or 54%.\n",
    "For students attending #4 schools (the base case in the regression below), the chance of being accepted is 12/67, or 18%\n",
    "\n",
    "For attendees of #1 schools, then, the odds of admission are .54/.46, or 1.17:1. \n",
    "For attendees of #4 ranked schools, the odds are .18/.82, or 0.22:1. \n",
    "\n",
    "The odds ratio for #1 schools vs #4 schools is 1.17/0.22, or 5.32, meaning that attendees of #1 schools are 5.32 times more likely to be admitted then attendees of #4 schools.\n",
    "\n",
    "Clearly, Prestige is a significant predictor. "
   ]
  },
  {
   "cell_type": "code",
   "execution_count": 7,
   "metadata": {
    "collapsed": false
   },
   "outputs": [
    {
     "data": {
      "text/html": [
       "<div>\n",
       "<table border=\"1\" class=\"dataframe\">\n",
       "  <thead>\n",
       "    <tr style=\"text-align: right;\">\n",
       "      <th>prestige</th>\n",
       "      <th>1.0</th>\n",
       "      <th>2.0</th>\n",
       "      <th>3.0</th>\n",
       "      <th>4.0</th>\n",
       "    </tr>\n",
       "    <tr>\n",
       "      <th>admit</th>\n",
       "      <th></th>\n",
       "      <th></th>\n",
       "      <th></th>\n",
       "      <th></th>\n",
       "    </tr>\n",
       "  </thead>\n",
       "  <tbody>\n",
       "    <tr>\n",
       "      <th>0</th>\n",
       "      <td>28</td>\n",
       "      <td>97</td>\n",
       "      <td>93</td>\n",
       "      <td>55</td>\n",
       "    </tr>\n",
       "    <tr>\n",
       "      <th>1</th>\n",
       "      <td>33</td>\n",
       "      <td>53</td>\n",
       "      <td>28</td>\n",
       "      <td>12</td>\n",
       "    </tr>\n",
       "  </tbody>\n",
       "</table>\n",
       "</div>"
      ],
      "text/plain": [
       "prestige  1.0  2.0  3.0  4.0\n",
       "admit                       \n",
       "0          28   97   93   55\n",
       "1          33   53   28   12"
      ]
     },
     "execution_count": 7,
     "metadata": {},
     "output_type": "execute_result"
    }
   ],
   "source": [
    "pd.crosstab(index=dfRaw['admit'], columns=dfRaw['prestige'])"
   ]
  },
  {
   "cell_type": "markdown",
   "metadata": {},
   "source": [
    "### Combining GPA and Prestige\n",
    "*The chart below further breaks down the relationship between prestige and likelihood of admission*"
   ]
  },
  {
   "cell_type": "code",
   "execution_count": 8,
   "metadata": {
    "collapsed": false
   },
   "outputs": [
    {
     "data": {
      "text/html": [
       "<div>\n",
       "<table border=\"1\" class=\"dataframe\">\n",
       "  <thead>\n",
       "    <tr style=\"text-align: right;\">\n",
       "      <th>prestige</th>\n",
       "      <th>1.0</th>\n",
       "      <th>2.0</th>\n",
       "      <th>3.0</th>\n",
       "      <th>4.0</th>\n",
       "    </tr>\n",
       "    <tr>\n",
       "      <th>admit</th>\n",
       "      <th></th>\n",
       "      <th></th>\n",
       "      <th></th>\n",
       "      <th></th>\n",
       "    </tr>\n",
       "  </thead>\n",
       "  <tbody>\n",
       "    <tr>\n",
       "      <th>0</th>\n",
       "      <td>3.345714</td>\n",
       "      <td>3.325895</td>\n",
       "      <td>3.402258</td>\n",
       "      <td>3.291455</td>\n",
       "    </tr>\n",
       "    <tr>\n",
       "      <th>1</th>\n",
       "      <td>3.544242</td>\n",
       "      <td>3.441698</td>\n",
       "      <td>3.534643</td>\n",
       "      <td>3.441667</td>\n",
       "    </tr>\n",
       "  </tbody>\n",
       "</table>\n",
       "</div>"
      ],
      "text/plain": [
       "prestige       1.0       2.0       3.0       4.0\n",
       "admit                                           \n",
       "0         3.345714  3.325895  3.402258  3.291455\n",
       "1         3.544242  3.441698  3.534643  3.441667"
      ]
     },
     "execution_count": 8,
     "metadata": {},
     "output_type": "execute_result"
    }
   ],
   "source": [
    "pd.crosstab(index=dfClean['admit'], columns=dfClean['prestige'], values=dfClean['gpa'], aggfunc=np.mean)"
   ]
  },
  {
   "cell_type": "code",
   "execution_count": 9,
   "metadata": {
    "collapsed": false
   },
   "outputs": [],
   "source": [
    "with warnings.catch_warnings():\n",
    "    warnings.simplefilter(\"ignore\")\n",
    "    \n",
    "    dfProcessed = pd.DataFrame(dfClean)\n",
    "\n",
    "    #set dummy data if it hasn't already been done\n",
    "    if 'prestige_1' not in dfProcessed.columns:\n",
    "\n",
    "        #Convert prestige to an integer\n",
    "        dfProcessed[['prestige']] = dfProcessed[['prestige']].astype(int)\n",
    "\n",
    "        #Create dummy variables for the Prestige predictor\n",
    "        dfTempPrestigeDummies = pd.get_dummies(dfProcessed.prestige, prefix=\"prestige\")\n",
    "        dfTempPrestigeDummies = dfTempPrestigeDummies.drop('prestige_4', 1)\n",
    "\n",
    "        #join those new variables back into the larger dataset and drop the original column\n",
    "        dfProcessed = pd.concat([dfProcessed, dfTempPrestigeDummies], axis=1)\n",
    "        dfProcessed = dfProcessed.drop('prestige', 1)\n",
    "    dfProcessd.head(5)"
   ]
  },
  {
   "cell_type": "code",
   "execution_count": 10,
   "metadata": {
    "collapsed": false
   },
   "outputs": [],
   "source": [
    "#Normalize GRE because the scale is much larger than the other variables\n",
    "lst_X = [\"gre\"]\n",
    "dfProcessed[lst_X] = dfProcessed[lst_X].apply(lambda x: (x - np.min(x)) / (np.max(x) - np.min(x)))"
   ]
  },
  {
   "cell_type": "code",
   "execution_count": 11,
   "metadata": {
    "collapsed": false
   },
   "outputs": [
    {
     "data": {
      "text/html": [
       "<div>\n",
       "<table border=\"1\" class=\"dataframe\">\n",
       "  <thead>\n",
       "    <tr style=\"text-align: right;\">\n",
       "      <th></th>\n",
       "      <th>admit</th>\n",
       "      <th>gre</th>\n",
       "      <th>gpa</th>\n",
       "      <th>prestige_1</th>\n",
       "      <th>prestige_2</th>\n",
       "      <th>prestige_3</th>\n",
       "      <th>gpa_at_prestige_1_school</th>\n",
       "      <th>gpa_at_prestige_2_school</th>\n",
       "      <th>gpa_at_prestige_3_school</th>\n",
       "    </tr>\n",
       "  </thead>\n",
       "  <tbody>\n",
       "    <tr>\n",
       "      <th>0</th>\n",
       "      <td>0</td>\n",
       "      <td>0.275862</td>\n",
       "      <td>3.61</td>\n",
       "      <td>0.0</td>\n",
       "      <td>0.0</td>\n",
       "      <td>1.0</td>\n",
       "      <td>0.0</td>\n",
       "      <td>0.0</td>\n",
       "      <td>3.61</td>\n",
       "    </tr>\n",
       "    <tr>\n",
       "      <th>1</th>\n",
       "      <td>1</td>\n",
       "      <td>0.758621</td>\n",
       "      <td>3.67</td>\n",
       "      <td>0.0</td>\n",
       "      <td>0.0</td>\n",
       "      <td>1.0</td>\n",
       "      <td>0.0</td>\n",
       "      <td>0.0</td>\n",
       "      <td>3.67</td>\n",
       "    </tr>\n",
       "    <tr>\n",
       "      <th>2</th>\n",
       "      <td>1</td>\n",
       "      <td>1.000000</td>\n",
       "      <td>4.00</td>\n",
       "      <td>1.0</td>\n",
       "      <td>0.0</td>\n",
       "      <td>0.0</td>\n",
       "      <td>4.0</td>\n",
       "      <td>0.0</td>\n",
       "      <td>0.00</td>\n",
       "    </tr>\n",
       "    <tr>\n",
       "      <th>3</th>\n",
       "      <td>1</td>\n",
       "      <td>0.724138</td>\n",
       "      <td>3.19</td>\n",
       "      <td>0.0</td>\n",
       "      <td>0.0</td>\n",
       "      <td>0.0</td>\n",
       "      <td>0.0</td>\n",
       "      <td>0.0</td>\n",
       "      <td>0.00</td>\n",
       "    </tr>\n",
       "    <tr>\n",
       "      <th>4</th>\n",
       "      <td>0</td>\n",
       "      <td>0.517241</td>\n",
       "      <td>2.93</td>\n",
       "      <td>0.0</td>\n",
       "      <td>0.0</td>\n",
       "      <td>0.0</td>\n",
       "      <td>0.0</td>\n",
       "      <td>0.0</td>\n",
       "      <td>0.00</td>\n",
       "    </tr>\n",
       "  </tbody>\n",
       "</table>\n",
       "</div>"
      ],
      "text/plain": [
       "   admit       gre   gpa  prestige_1  prestige_2  prestige_3  \\\n",
       "0      0  0.275862  3.61         0.0         0.0         1.0   \n",
       "1      1  0.758621  3.67         0.0         0.0         1.0   \n",
       "2      1  1.000000  4.00         1.0         0.0         0.0   \n",
       "3      1  0.724138  3.19         0.0         0.0         0.0   \n",
       "4      0  0.517241  2.93         0.0         0.0         0.0   \n",
       "\n",
       "   gpa_at_prestige_1_school  gpa_at_prestige_2_school  \\\n",
       "0                       0.0                       0.0   \n",
       "1                       0.0                       0.0   \n",
       "2                       4.0                       0.0   \n",
       "3                       0.0                       0.0   \n",
       "4                       0.0                       0.0   \n",
       "\n",
       "   gpa_at_prestige_3_school  \n",
       "0                      3.61  \n",
       "1                      3.67  \n",
       "2                      0.00  \n",
       "3                      0.00  \n",
       "4                      0.00  "
      ]
     },
     "execution_count": 11,
     "metadata": {},
     "output_type": "execute_result"
    }
   ],
   "source": [
    "#Create engineered feature that combines Prestige and GPA\n",
    "#Initially keep all features and remove later if some don't provide any explanatory power\n",
    "dfProcessed[\"gpa_at_prestige_1_school\"] = dfProcessed[\"gpa\"] * dfProcessed[\"prestige_1\"]\n",
    "dfProcessed[\"gpa_at_prestige_2_school\"] = dfProcessed[\"gpa\"] * dfProcessed[\"prestige_2\"]\n",
    "dfProcessed[\"gpa_at_prestige_3_school\"] = dfProcessed[\"gpa\"] * dfProcessed[\"prestige_3\"]\n",
    "\n",
    "dfProcessed.head()"
   ]
  },
  {
   "cell_type": "code",
   "execution_count": 12,
   "metadata": {
    "collapsed": true
   },
   "outputs": [],
   "source": [
    "#Try full feature list and see what we get\n",
    "with warnings.catch_warnings():\n",
    "    warnings.simplefilter(\"ignore\")\n",
    "\n",
    "    #Apply K-Fold cross validation\n",
    "    #Create feature and target dataframes for ease of manipulation\n",
    "    dfX = dfProcessed.drop('admit', 1)\n",
    "    serY = dfProcessed.admit\n",
    "\n",
    "    parameter_grid = [\n",
    "      {'C': list(range(1, 10))}\n",
    "     ]\n",
    "\n",
    "    regGS = grid_search.GridSearchCV(linear_model.LogisticRegression(), param_grid= parameter_grid, \\\n",
    "                                   cv=5, scoring='accuracy')\n",
    "    regGS.fit(dfX, serY)"
   ]
  },
  {
   "cell_type": "code",
   "execution_count": 21,
   "metadata": {
    "collapsed": false
   },
   "outputs": [],
   "source": [
    "#build functions to display the regression results\n",
    "\n",
    "def format_percentage(x):\n",
    "    return \"{:10.2f}%\".format(100*x)\n",
    "\n",
    "def print_regression_results(grid_search, X, y):\n",
    "    \n",
    "    print(\"***COEFFICIENTS AND PARAMETERS***\", )\n",
    "    \n",
    "    print(\"Regularization hyperparameter: %d\" %(grid_search.best_params_[\"C\"]))\n",
    "\n",
    "    regLog_coefs = {};\n",
    "\n",
    "    for index in range(len(X.columns)):\n",
    "        regLog_coefs[X.columns[index]] = grid_search.best_estimator_.coef_[0][index]\n",
    "\n",
    "    regLog_coefs['intercept'] = grid_search.best_estimator_.intercept_[0]\n",
    "\n",
    "    for key, value in sorted(regLog_coefs.items(), key=lambda x: x[1], reverse=True):\n",
    "        print(key + ':' + \"{:10.4f}\".format(value))\n",
    "        \n",
    "    cf_matrix = metrics.confusion_matrix(y, grid_search.predict(X))\n",
    "    \n",
    "    print()\n",
    "    print(\"***ACCURACY AND OTHER STATISTICS***\", )\n",
    "\n",
    "    # Accuracy\n",
    "    # What % of all predictions were correct\n",
    "    accuracy = (cf_matrix[0][0] + cf_matrix[1][1]) / cf_matrix.sum(dtype=float)\n",
    "\n",
    "    # Sensitivity\n",
    "    # For those who were accepted, how many did it predict correctly? \n",
    "    sensitivity = cf_matrix[1][1] / float(cf_matrix.sum(axis=1)[1])\n",
    "\n",
    "    # Specificity\n",
    "    # For those who weren't accepted, how many did it predict correctly?\n",
    "    specificity = cf_matrix[0][0] / float(cf_matrix.sum(axis=1)[0])\n",
    "\n",
    "    print(\"Accuracy: \" + format_percentage(accuracy))\n",
    "    print(\"Sensitivity/Recall (proportion of actual positives which are correctly identified): \", format_percentage(sensitivity))\n",
    "    print(\"Specificity (proportion of actual negatives which are correctly identified): \", format_percentage(specificity))        "
   ]
  },
  {
   "cell_type": "markdown",
   "metadata": {},
   "source": [
    "### Results of regression with lots of features\n",
    "*Now try to remove some to simplify the model*"
   ]
  },
  {
   "cell_type": "code",
   "execution_count": 22,
   "metadata": {
    "collapsed": false
   },
   "outputs": [
    {
     "name": "stdout",
     "output_type": "stream",
     "text": [
      "***COEFFICIENTS AND PARAMETERS***\n",
      "Regularization hyperparameter: 5\n",
      "gre:    1.1888\n",
      "gpa_at_prestige_1_school:    0.6126\n",
      "gpa_at_prestige_2_school:    0.3612\n",
      "gpa:    0.2584\n",
      "gpa_at_prestige_3_school:    0.2155\n",
      "prestige_2:   -0.3703\n",
      "prestige_3:   -0.4996\n",
      "prestige_1:   -0.5435\n",
      "intercept:   -3.0877\n",
      "\n",
      "***ACCURACY AND OTHER STATISTICS***\n",
      "Accuracy:      71.03%\n",
      "Sensitivity/Recall (proportion of actual positives which are correctly identified):       22.22%\n",
      "Specificity (proportion of actual negatives which are correctly identified):       93.73%\n"
     ]
    }
   ],
   "source": [
    "print_regression_results(regGS, dfX, serY)"
   ]
  },
  {
   "cell_type": "code",
   "execution_count": 24,
   "metadata": {
    "collapsed": false
   },
   "outputs": [
    {
     "data": {
      "text/html": [
       "<div>\n",
       "<table border=\"1\" class=\"dataframe\">\n",
       "  <thead>\n",
       "    <tr style=\"text-align: right;\">\n",
       "      <th></th>\n",
       "      <th>admit</th>\n",
       "      <th>gre</th>\n",
       "      <th>gpa_at_prestige_1_school</th>\n",
       "      <th>gpa_at_prestige_2_school</th>\n",
       "      <th>gpa_at_prestige_3_school</th>\n",
       "    </tr>\n",
       "  </thead>\n",
       "  <tbody>\n",
       "    <tr>\n",
       "      <th>0</th>\n",
       "      <td>0</td>\n",
       "      <td>0.275862</td>\n",
       "      <td>0.0</td>\n",
       "      <td>0.0</td>\n",
       "      <td>3.61</td>\n",
       "    </tr>\n",
       "    <tr>\n",
       "      <th>1</th>\n",
       "      <td>1</td>\n",
       "      <td>0.758621</td>\n",
       "      <td>0.0</td>\n",
       "      <td>0.0</td>\n",
       "      <td>3.67</td>\n",
       "    </tr>\n",
       "    <tr>\n",
       "      <th>2</th>\n",
       "      <td>1</td>\n",
       "      <td>1.000000</td>\n",
       "      <td>4.0</td>\n",
       "      <td>0.0</td>\n",
       "      <td>0.00</td>\n",
       "    </tr>\n",
       "    <tr>\n",
       "      <th>3</th>\n",
       "      <td>1</td>\n",
       "      <td>0.724138</td>\n",
       "      <td>0.0</td>\n",
       "      <td>0.0</td>\n",
       "      <td>0.00</td>\n",
       "    </tr>\n",
       "    <tr>\n",
       "      <th>4</th>\n",
       "      <td>0</td>\n",
       "      <td>0.517241</td>\n",
       "      <td>0.0</td>\n",
       "      <td>0.0</td>\n",
       "      <td>0.00</td>\n",
       "    </tr>\n",
       "  </tbody>\n",
       "</table>\n",
       "</div>"
      ],
      "text/plain": [
       "   admit       gre  gpa_at_prestige_1_school  gpa_at_prestige_2_school  \\\n",
       "0      0  0.275862                       0.0                       0.0   \n",
       "1      1  0.758621                       0.0                       0.0   \n",
       "2      1  1.000000                       4.0                       0.0   \n",
       "3      1  0.724138                       0.0                       0.0   \n",
       "4      0  0.517241                       0.0                       0.0   \n",
       "\n",
       "   gpa_at_prestige_3_school  \n",
       "0                      3.61  \n",
       "1                      3.67  \n",
       "2                      0.00  \n",
       "3                      0.00  \n",
       "4                      0.00  "
      ]
     },
     "execution_count": 24,
     "metadata": {},
     "output_type": "execute_result"
    }
   ],
   "source": [
    "if 'prestige_1' in dfProcessed.columns:\n",
    "    \n",
    "    dfProcessed.drop(\"gpa\", axis=1, inplace = True)\n",
    "    dfProcessed.drop(\"prestige_1\", axis=1, inplace = True)\n",
    "    dfProcessed.drop(\"prestige_2\", axis=1, inplace = True)\n",
    "    dfProcessed.drop(\"prestige_3\", axis=1, inplace = True)\n",
    "\n",
    "dfProcessed.head(5)"
   ]
  },
  {
   "cell_type": "code",
   "execution_count": 29,
   "metadata": {
    "collapsed": false
   },
   "outputs": [],
   "source": [
    "#Now repeat regression with simplified features and see if it performs as well\n",
    "with warnings.catch_warnings():\n",
    "    warnings.simplefilter(\"ignore\")\n",
    "\n",
    "    #Apply K-Fold cross validation\n",
    "    #Create feature and target dataframes for ease of manipulation\n",
    "    dfX = dfProcessed.drop('admit', 1)\n",
    "    serY = dfProcessed.admit\n",
    "\n",
    "    parameter_grid = [\n",
    "      {'C': list(range(1, 10))}\n",
    "     ]\n",
    "\n",
    "    regGS = grid_search.GridSearchCV(linear_model.LogisticRegression(), param_grid= parameter_grid, \\\n",
    "                                   cv=5, scoring='accuracy')\n",
    "    regGS.fit(dfX, serY)"
   ]
  },
  {
   "cell_type": "code",
   "execution_count": 30,
   "metadata": {
    "collapsed": false
   },
   "outputs": [
    {
     "name": "stdout",
     "output_type": "stream",
     "text": [
      "***COEFFICIENTS AND PARAMETERS***\n",
      "Regularization hyperparameter: 6\n",
      "gre:    1.4628\n",
      "gpa_at_prestige_1_school:    0.4958\n",
      "gpa_at_prestige_2_school:    0.2895\n",
      "gpa_at_prestige_3_school:    0.1167\n",
      "intercept:   -2.5084\n",
      "\n",
      "***ACCURACY AND OTHER STATISTICS***\n",
      "Accuracy:      70.78%\n",
      "Sensitivity/Recall (proportion of actual positives which are correctly identified):       22.22%\n",
      "Specificity (proportion of actual negatives which are correctly identified):       93.36%\n"
     ]
    }
   ],
   "source": [
    "print_regression_results(regGS, dfX, serY)"
   ]
  },
  {
   "cell_type": "markdown",
   "metadata": {},
   "source": [
    "### Second Regression is an improvement\n",
    "*The second regression has almost identical stats but has fewer features and is easier to interpret. GPA and Prestige seem to have little explanatory power on their own that is not achieved by the combined metric, so in the regression they just \"steal\" the effect of the engineered features. *"
   ]
  },
  {
   "cell_type": "markdown",
   "metadata": {},
   "source": [
    "# Summary of Results\n",
    "\n",
    "*Although the regression can predict the student's admission status with about 70% accuracy, it is far better at predicting the more common denials than the rarer admits. Only about 22% of admissions were predicted correctly. *\n",
    "\n",
    "*The regression indicates that GRE has a positive effect on admissions chances. However, the strongest predictor is the combination of GPA and the Prestige of the school. A 0.1-point increase in GPA at a Prestige 1 school increases the likelihood of admission far more than a similar increase at a Prestige 2 school. The same comparison holds true for Prestige 2 vs 3 and 3 vs 4.*\n",
    "\n",
    "*The takeaway then is that GPA is not a strong predictor by itself, but rather should be considered within the context of the prestige of the school.*"
   ]
  },
  {
   "cell_type": "markdown",
   "metadata": {},
   "source": [
    "### Apply our regression to a sample student"
   ]
  },
  {
   "cell_type": "code",
   "execution_count": null,
   "metadata": {
    "collapsed": false
   },
   "outputs": [],
   "source": [
    "#Calculate a probability with sample data as a proof of concept\n",
    "def sigmoid(x):\n",
    "    return 1.0 / (1 + np.exp(-x))\n",
    "\n",
    "def calculate_prob(coef_map, gre, gpa, prestige):\n",
    "    \n",
    "    #normalize GRE score based on max/min from main dataset\n",
    "    gre_normalized = (coef_map['gre'] - dfClean['gre'].min())/(dfClean['gre'].max() - dfClean['gre'].min())\n",
    "    \n",
    "    #iterate through coefficients to generate x\n",
    "    formula = coef_map['intercept'] + coef_map['gre'] * gre_normalized\n",
    "    strPrestige = 'gpa_at_prestige_' + str(prestige) + '_school'\n",
    "    if prestige != 4:\n",
    "        formula = formula + (coef_map[strPrestige]*gpa)\n",
    "    \n",
    "    return sigmoid(formula)\n",
    "\n",
    "#submit a sample student to find the likelihood of admission\n",
    "gre_sample = 500\n",
    "gpa_sample = 3.5\n",
    "prestige_sample = 2\n",
    "p_sample = calculate_prob(regLog_coefs, gre_sample, gpa_sample, prestige_sample)\n",
    "\n",
    "print(\"Probability of admit for GRE=%s, GPA=%s, Prestige=%s: %s\" % \\\n",
    "(gre_sample, gpa_sample, prestige_sample, format_percentage(p_sample)))"
   ]
  },
  {
   "cell_type": "markdown",
   "metadata": {},
   "source": [
    "### Predict probabilities for all possible students \n",
    "Examine all possible combinations of the three original features"
   ]
  },
  {
   "cell_type": "code",
   "execution_count": 32,
   "metadata": {
    "collapsed": true
   },
   "outputs": [],
   "source": [
    "#Function to generate arrays of features that represent sample students\n",
    "def cartesian(arrays, out=None):\n",
    "\n",
    "    arrays = [np.asarray(x) for x in arrays]\n",
    "    dtype = arrays[0].dtype\n",
    "\n",
    "    n = np.prod([x.size for x in arrays])\n",
    "    if out is None:\n",
    "        out = np.zeros([n, len(arrays)], dtype=dtype)\n",
    "\n",
    "    m = n / arrays[0].size\n",
    "    out[:,0] = np.repeat(arrays[0], m)\n",
    "    if arrays[1:]:\n",
    "        cartesian(arrays[1:], out=out[0:m,1:])\n",
    "        for j in range(1, arrays[0].size):\n",
    "            out[j*m:(j+1)*m,1:] = out[0:m,1:]\n",
    "    return out"
   ]
  },
  {
   "cell_type": "code",
   "execution_count": 34,
   "metadata": {
    "collapsed": false
   },
   "outputs": [
    {
     "name": "stdout",
     "output_type": "stream",
     "text": [
      "[ 220.          284.44444444  348.88888889  413.33333333  477.77777778\n",
      "  542.22222222  606.66666667  671.11111111  735.55555556  800.        ]\n",
      "[ 2.26        2.45333333  2.64666667  2.84        3.03333333  3.22666667\n",
      "  3.42        3.61333333  3.80666667  4.        ]\n"
     ]
    }
   ],
   "source": [
    "# instead of generating all possible values of GRE and GPA, we're going\n",
    "# to use an evenly spaced range of 10 values from the min to the max \n",
    "\n",
    "# 10 GPAs * 10 GREs * 4 Prestiges = 400 students\n",
    "\n",
    "with warnings.catch_warnings():\n",
    "    warnings.simplefilter(\"ignore\")\n",
    "\n",
    "    gres = np.linspace(dfClean['gre'].min(), dfClean['gre'].max(), 10)\n",
    "    gpas = np.linspace(dfClean['gpa'].min(), dfClean['gpa'].max(), 10)\n",
    "\n",
    "\n",
    "    # enumerate all possibilities\n",
    "    dfCombos = pd.DataFrame(data=cartesian([gres, gpas, [1, 2, 3, 4]]), columns=['gre', 'gpa', 'prestige'])"
   ]
  },
  {
   "cell_type": "code",
   "execution_count": 39,
   "metadata": {
    "collapsed": true
   },
   "outputs": [],
   "source": [
    "#repeat preprocessing code from above to generate a dataframe in the same format as dfProcessed\n",
    "with warnings.catch_warnings():\n",
    "    warnings.simplefilter(\"ignore\")\n",
    "    \n",
    "    dfProbs = pd.DataFrame(dfCombos)\n",
    "\n",
    "    #Convert prestige to an integer\n",
    "    dfProbs[['prestige']] = dfProbs[['prestige']].astype(int)\n",
    "\n",
    "    #Create dummy variables for the Prestige predictor\n",
    "    dfTempPrestigeDummies = pd.get_dummies(dfProbs.prestige, prefix=\"prestige\")\n",
    "    dfTempPrestigeDummies = dfTempPrestigeDummies.drop('prestige_4', 1)\n",
    "\n",
    "    #join those new variables back into the larger dataset and drop the original column\n",
    "    dfProbs = pd.concat([dfProbs, dfTempPrestigeDummies], axis=1)\n",
    "    dfProbs = dfProbs.drop('prestige', 1)\n",
    "    \n",
    "    #Normalize GRE because the scale is much larger than the other variables\n",
    "    lst_X = [\"gre\"]\n",
    "    dfProbs[lst_X] = dfProbs[lst_X].apply(lambda x: (x - np.min(x)) / (np.max(x) - np.min(x))) \n",
    "\n",
    "    #Create engineered feature that combines Prestige and GPA\n",
    "    #Initially keep all features and remove later if some don't provide any explanatory power\n",
    "    dfProbs[\"gpa_at_prestige_1_school\"] = dfProbs[\"gpa\"] * dfProbs[\"prestige_1\"]\n",
    "    dfProbs[\"gpa_at_prestige_2_school\"] = dfProbs[\"gpa\"] * dfProbs[\"prestige_2\"]\n",
    "    dfProbs[\"gpa_at_prestige_3_school\"] = dfProbs[\"gpa\"] * dfProbs[\"prestige_3\"]\n",
    "    dfProbs.drop(\"gpa\", axis=1, inplace = True)\n",
    "    dfProbs.drop(\"prestige_1\", axis=1, inplace = True)\n",
    "    dfProbs.drop(\"prestige_2\", axis=1, inplace = True)\n",
    "    dfProbs.drop(\"prestige_3\", axis=1, inplace = True)"
   ]
  },
  {
   "cell_type": "code",
   "execution_count": 40,
   "metadata": {
    "collapsed": false
   },
   "outputs": [],
   "source": [
    "#create probability preduction column\n",
    "dfTemp = pd.DataFrame(regGS.predict_proba(dfProbs))\n",
    "dfCombos['admit_probability'] = dfTemp[[1]]"
   ]
  },
  {
   "cell_type": "code",
   "execution_count": 42,
   "metadata": {
    "collapsed": false
   },
   "outputs": [
    {
     "data": {
      "text/html": [
       "<div>\n",
       "<table border=\"1\" class=\"dataframe\">\n",
       "  <thead>\n",
       "    <tr style=\"text-align: right;\">\n",
       "      <th></th>\n",
       "      <th>gre</th>\n",
       "      <th>gpa</th>\n",
       "      <th>prestige</th>\n",
       "      <th>admit_probability</th>\n",
       "    </tr>\n",
       "  </thead>\n",
       "  <tbody>\n",
       "    <tr>\n",
       "      <th>0</th>\n",
       "      <td>220.0</td>\n",
       "      <td>2.260000</td>\n",
       "      <td>1</td>\n",
       "      <td>0.199749</td>\n",
       "    </tr>\n",
       "    <tr>\n",
       "      <th>1</th>\n",
       "      <td>220.0</td>\n",
       "      <td>2.260000</td>\n",
       "      <td>2</td>\n",
       "      <td>0.135378</td>\n",
       "    </tr>\n",
       "    <tr>\n",
       "      <th>2</th>\n",
       "      <td>220.0</td>\n",
       "      <td>2.260000</td>\n",
       "      <td>3</td>\n",
       "      <td>0.095805</td>\n",
       "    </tr>\n",
       "    <tr>\n",
       "      <th>3</th>\n",
       "      <td>220.0</td>\n",
       "      <td>2.260000</td>\n",
       "      <td>4</td>\n",
       "      <td>0.075271</td>\n",
       "    </tr>\n",
       "    <tr>\n",
       "      <th>4</th>\n",
       "      <td>220.0</td>\n",
       "      <td>2.453333</td>\n",
       "      <td>1</td>\n",
       "      <td>0.215514</td>\n",
       "    </tr>\n",
       "  </tbody>\n",
       "</table>\n",
       "</div>"
      ],
      "text/plain": [
       "     gre       gpa  prestige  admit_probability\n",
       "0  220.0  2.260000         1           0.199749\n",
       "1  220.0  2.260000         2           0.135378\n",
       "2  220.0  2.260000         3           0.095805\n",
       "3  220.0  2.260000         4           0.075271\n",
       "4  220.0  2.453333         1           0.215514"
      ]
     },
     "execution_count": 42,
     "metadata": {},
     "output_type": "execute_result"
    }
   ],
   "source": [
    "#Probability of each theoretical student getting admitted!\n",
    "dfCombos.head()"
   ]
  },
  {
   "cell_type": "code",
   "execution_count": 99,
   "metadata": {
    "collapsed": false
   },
   "outputs": [
    {
     "name": "stderr",
     "output_type": "stream",
     "text": [
      "/Users/mattbritton/anaconda/lib/python3.5/site-packages/matplotlib/collections.py:590: FutureWarning: elementwise comparison failed; returning scalar instead, but in the future will perform elementwise comparison\n",
      "  if self._edgecolors == str('face'):\n"
     ]
    },
    {
     "data": {
      "image/png": "[encoded data removed]",
      "text/plain": [
       "<matplotlib.figure.Figure at 0x10b561240>"
      ]
     },
     "metadata": {},
     "output_type": "display_data"
    }
   ],
   "source": [
    "#plot predicted probability vs Prestige/GPA and Prestige/GRE\n",
    "with warnings.catch_warnings():\n",
    "    warnings.simplefilter(\"ignore\")\n",
    "    \n",
    "    #first generate dataframes for each prestige\n",
    "    dfC_P1 = dfCombos[dfCombos.prestige == 1]\n",
    "    dfC_P2 = dfCombos[dfCombos.prestige == 2]\n",
    "    dfC_P3 = dfCombos[dfCombos.prestige == 3]\n",
    "    dfC_P4 = dfCombos[dfCombos.prestige == 4]\n",
    "\n",
    "    plt.figure(figsize=(20,20))\n",
    "    plt.subplot(211)\n",
    "\n",
    "    plt.scatter(dfC_P1.gpa, dfC_P1.admit_probability, alpha = .5, marker='p', c= 'green', s=100)\n",
    "    plt.scatter(dfC_P2.gpa, dfC_P2.admit_probability, alpha = .5, marker='o', edgecolors= 'orange', s=100)\n",
    "    plt.scatter(dfC_P3.gpa, dfC_P3.admit_probability, alpha = .5, marker='v', c= 'yellow', s=100)\n",
    "    plt.scatter(dfC_P4.gpa, dfC_P4.admit_probability, alpha = .5, marker='s', c= 'red', s=100)\n",
    "\n",
    "    plt.xlim([0.95*dfCleanMins.loc['gpa'],1.1*dfCleanMaxs.loc['gpa']]); \n",
    "    plt.ylim([0, 1.1*dfCombos['admit_probability'].max()]); \n",
    "    plt.legend( ('Prestige 1', 'Prestige 2', 'Prestige 3', 'Prestige 4'), loc='upper left');\n",
    "    plt.xlabel(\"GPA\")\n",
    "    plt.ylabel(\"Probability of Admission\")\n",
    "\n",
    "    plt.subplot(212)\n",
    "\n",
    "    plt.scatter(dfC_P1.gre, dfC_P1.admit_probability, alpha = .5, marker='p', c= 'green', s=100)\n",
    "    plt.scatter(dfC_P2.gre, dfC_P2.admit_probability, alpha = .5, marker='o', edgecolors= 'orange', s=100)\n",
    "    plt.scatter(dfC_P3.gre, dfC_P3.admit_probability, alpha = .5, marker='v', c= 'yellow', s=100)\n",
    "    plt.scatter(dfC_P4.gre, dfC_P4.admit_probability, alpha = .5, marker='s', c= 'red', s=100)\n",
    "\n",
    "    plt.xlim([0.95*dfCleanMins.loc['gre'],1.1*dfCleanMaxs.loc['gre']]); \n",
    "    plt.ylim([0, 1.1*dfCombos['admit_probability'].max()]); \n",
    "    plt.legend( ('Prestige 1', 'Prestige 2', 'Prestige 3', 'Prestige 4'), loc='upper left');\n",
    "    plt.xlabel(\"GRE\")\n",
    "    plt.ylabel(\"Probability of Admission\")"
   ]
  },
  {
   "cell_type": "markdown",
   "metadata": {},
   "source": [
    "## Interpretation of graphs of predicted probabilities\n",
    "*These predictions indicate that even for students with GPAs and GREs at the maximum end of the spectrum, their chances of being admitted are only ~35% if they attended a prestige 3 or 4 school. The student with the highest probability of being admitted (with a 800 GRE and 4.0 GPA from a Prestige 1 school), will have about a 71% change (2.45:1 odds) of getting admitted.*"
   ]
  },
  {
   "cell_type": "code",
   "execution_count": 95,
   "metadata": {
    "collapsed": false
   },
   "outputs": [
    {
     "data": {
      "text/html": [
       "<div>\n",
       "<table border=\"1\" class=\"dataframe\">\n",
       "  <thead>\n",
       "    <tr style=\"text-align: right;\">\n",
       "      <th></th>\n",
       "      <th>gre</th>\n",
       "      <th>gpa</th>\n",
       "      <th>prestige</th>\n",
       "      <th>admit_probability</th>\n",
       "    </tr>\n",
       "  </thead>\n",
       "  <tbody>\n",
       "    <tr>\n",
       "      <th>382</th>\n",
       "      <td>800.0</td>\n",
       "      <td>3.226667</td>\n",
       "      <td>3</td>\n",
       "      <td>0.338697</td>\n",
       "    </tr>\n",
       "    <tr>\n",
       "      <th>386</th>\n",
       "      <td>800.0</td>\n",
       "      <td>3.420000</td>\n",
       "      <td>3</td>\n",
       "      <td>0.343767</td>\n",
       "    </tr>\n",
       "    <tr>\n",
       "      <th>390</th>\n",
       "      <td>800.0</td>\n",
       "      <td>3.613333</td>\n",
       "      <td>3</td>\n",
       "      <td>0.348874</td>\n",
       "    </tr>\n",
       "    <tr>\n",
       "      <th>394</th>\n",
       "      <td>800.0</td>\n",
       "      <td>3.806667</td>\n",
       "      <td>3</td>\n",
       "      <td>0.354015</td>\n",
       "    </tr>\n",
       "    <tr>\n",
       "      <th>398</th>\n",
       "      <td>800.0</td>\n",
       "      <td>4.000000</td>\n",
       "      <td>3</td>\n",
       "      <td>0.359190</td>\n",
       "    </tr>\n",
       "  </tbody>\n",
       "</table>\n",
       "</div>"
      ],
      "text/plain": [
       "       gre       gpa  prestige  admit_probability\n",
       "382  800.0  3.226667         3           0.338697\n",
       "386  800.0  3.420000         3           0.343767\n",
       "390  800.0  3.613333         3           0.348874\n",
       "394  800.0  3.806667         3           0.354015\n",
       "398  800.0  4.000000         3           0.359190"
      ]
     },
     "execution_count": 95,
     "metadata": {},
     "output_type": "execute_result"
    }
   ],
   "source": [
    "dfCombos[dfCombos['prestige'] == 3].tail()"
   ]
  },
  {
   "cell_type": "code",
   "execution_count": 96,
   "metadata": {
    "collapsed": false
   },
   "outputs": [
    {
     "data": {
      "text/html": [
       "<div>\n",
       "<table border=\"1\" class=\"dataframe\">\n",
       "  <thead>\n",
       "    <tr style=\"text-align: right;\">\n",
       "      <th></th>\n",
       "      <th>gre</th>\n",
       "      <th>gpa</th>\n",
       "      <th>prestige</th>\n",
       "      <th>admit_probability</th>\n",
       "    </tr>\n",
       "  </thead>\n",
       "  <tbody>\n",
       "    <tr>\n",
       "      <th>380</th>\n",
       "      <td>800.0</td>\n",
       "      <td>3.226667</td>\n",
       "      <td>1</td>\n",
       "      <td>0.635124</td>\n",
       "    </tr>\n",
       "    <tr>\n",
       "      <th>384</th>\n",
       "      <td>800.0</td>\n",
       "      <td>3.420000</td>\n",
       "      <td>1</td>\n",
       "      <td>0.657037</td>\n",
       "    </tr>\n",
       "    <tr>\n",
       "      <th>388</th>\n",
       "      <td>800.0</td>\n",
       "      <td>3.613333</td>\n",
       "      <td>1</td>\n",
       "      <td>0.678301</td>\n",
       "    </tr>\n",
       "    <tr>\n",
       "      <th>392</th>\n",
       "      <td>800.0</td>\n",
       "      <td>3.806667</td>\n",
       "      <td>1</td>\n",
       "      <td>0.698851</td>\n",
       "    </tr>\n",
       "    <tr>\n",
       "      <th>396</th>\n",
       "      <td>800.0</td>\n",
       "      <td>4.000000</td>\n",
       "      <td>1</td>\n",
       "      <td>0.718633</td>\n",
       "    </tr>\n",
       "  </tbody>\n",
       "</table>\n",
       "</div>"
      ],
      "text/plain": [
       "       gre       gpa  prestige  admit_probability\n",
       "380  800.0  3.226667         1           0.635124\n",
       "384  800.0  3.420000         1           0.657037\n",
       "388  800.0  3.613333         1           0.678301\n",
       "392  800.0  3.806667         1           0.698851\n",
       "396  800.0  4.000000         1           0.718633"
      ]
     },
     "execution_count": 96,
     "metadata": {},
     "output_type": "execute_result"
    }
   ],
   "source": [
    "dfCombos[dfCombos['prestige'] == 1].tail()"
   ]
  },
  {
   "cell_type": "code",
   "execution_count": null,
   "metadata": {
    "collapsed": true
   },
   "outputs": [],
   "source": []
  }
 ],
 "metadata": {
  "kernelspec": {
   "display_name": "Python 3",
   "language": "python",
   "name": "python3"
  },
  "language_info": {
   "codemirror_mode": {
    "name": "ipython",
    "version": 3
   },
   "file_extension": ".py",
   "mimetype": "text/x-python",
   "name": "python",
   "nbconvert_exporter": "python",
   "pygments_lexer": "ipython3",
   "version": "3.5.0"
  }
 },
 "nbformat": 4,
 "nbformat_minor": 0
}
